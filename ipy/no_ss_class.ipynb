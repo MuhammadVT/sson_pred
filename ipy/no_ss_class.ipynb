{
 "cells": [
  {
   "cell_type": "code",
   "execution_count": 1,
   "metadata": {},
   "outputs": [],
   "source": [
    "import warnings\n",
    "warnings.filterwarnings(\"ignore\")\n",
    "import pandas\n",
    "import datetime\n",
    "import os\n",
    "import sys\n",
    "module_path = os.path.abspath(os.path.join('../data_pipeline/'))\n",
    "if module_path not in sys.path:\n",
    "    sys.path.append(module_path)\n",
    "import sqlite3\n",
    "import create_onset_data"
   ]
  },
  {
   "cell_type": "code",
   "execution_count": 2,
   "metadata": {},
   "outputs": [],
   "source": [
    "inds_dbdir = \"/home/bharat/Documents/data/ss_onset_dataset/data/sqlite3/\"\n",
    "sm_db_name = \"smu_sml_sme.sqlite\"\n",
    "sm_table_name = \"smusmlsme\""
   ]
  },
  {
   "cell_type": "code",
   "execution_count": null,
   "metadata": {},
   "outputs": [],
   "source": [
    "dataObj = create_onset_data.OnsetData(delTCutoff=2)\n",
    "ssBinDF = dataObj.create_output_bins(\\\n",
    "                saveFile=\"../data/binned_data_extra_latlon.feather\",\\\n",
    "                aulDBdir=inds_dbdir, \\\n",
    "                 aulDBName=sm_db_name,\\\n",
    "                 aulTabName=sm_table_name)\n",
    "# print ssBinDF.head()\n",
    "# print \"-------------\"\n",
    "# print ssBinDF.shape"
   ]
  },
  {
   "cell_type": "code",
   "execution_count": null,
   "metadata": {},
   "outputs": [],
   "source": [
    "ssBinDF.tail(6000)[\"data_label\"].value_counts()"
   ]
  },
  {
   "cell_type": "code",
   "execution_count": null,
   "metadata": {},
   "outputs": [],
   "source": []
  }
 ],
 "metadata": {
  "kernelspec": {
   "display_name": "Python 2",
   "language": "python",
   "name": "python2"
  },
  "language_info": {
   "codemirror_mode": {
    "name": "ipython",
    "version": 2
   },
   "file_extension": ".py",
   "mimetype": "text/x-python",
   "name": "python",
   "nbconvert_exporter": "python",
   "pygments_lexer": "ipython2",
   "version": "2.7.6"
  }
 },
 "nbformat": 4,
 "nbformat_minor": 2
}
