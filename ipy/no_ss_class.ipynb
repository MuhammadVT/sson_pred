{
 "cells": [
  {
   "cell_type": "code",
   "execution_count": 1,
   "metadata": {},
   "outputs": [],
   "source": [
    "import warnings\n",
    "warnings.filterwarnings(\"ignore\")\n",
    "import pandas\n",
    "import datetime\n",
    "import os\n",
    "import sys\n",
    "module_path = os.path.abspath(os.path.join('../data_pipeline/'))\n",
    "if module_path not in sys.path:\n",
    "    sys.path.append(module_path)\n",
    "import sqlite3\n",
    "import create_onset_data"
   ]
  },
  {
   "cell_type": "code",
   "execution_count": 2,
   "metadata": {},
   "outputs": [],
   "source": [
    "inds_dbdir = \"/home/bharat/Documents/data/ss_onset_dataset/data/sqlite3/\"\n",
    "sm_db_name = \"smu_sml_sme.sqlite\"\n",
    "sm_table_name = \"smusmlsme\""
   ]
  },
  {
   "cell_type": "code",
   "execution_count": 3,
   "metadata": {},
   "outputs": [],
   "source": [
    "# dataObj = create_onset_data.OnsetData(delTCutoff=2)\n",
    "# ssBinDF = dataObj.create_output_bins(\\\n",
    "#                 saveFile=\"../data/binned_data_extra_latlon.feather\",\\\n",
    "#                 aulDBdir=inds_dbdir, \\\n",
    "#                  aulDBName=sm_db_name,\\\n",
    "#                  aulTabName=sm_table_name)\n",
    "# # print ssBinDF.head()\n",
    "# # print \"-------------\"\n",
    "# # print ssBinDF.shape"
   ]
  },
  {
   "cell_type": "code",
   "execution_count": 4,
   "metadata": {},
   "outputs": [],
   "source": [
    "# ssBinDF.tail(6000)[\"data_label\"].value_counts()"
   ]
  },
  {
   "cell_type": "code",
   "execution_count": 5,
   "metadata": {},
   "outputs": [
    {
     "name": "stdout",
     "output_type": "stream",
     "text": [
      "('Working through year-->', 1997)\n",
      "('Working through year-->', 1998)\n",
      "('Working through year-->', 1999)\n",
      "('Working through year-->', 2000)\n",
      "                     bin_0  mlat_0     mlt_0  del_minutes data_label\n",
      "1997-01-01 00:00:00      0  -1.000 -1.000000         -1.0          S\n",
      "1997-01-01 00:30:00      0  -1.000 -1.000000         -1.0          S\n",
      "1997-01-01 01:00:00      0  -1.000 -1.000000         -1.0          S\n",
      "1997-01-01 01:30:00      1   0.835  0.007306         46.0          S\n",
      "1997-01-01 02:00:00      1   0.835  0.007306         16.0          S\n",
      "('original DF label counts---->', 0    43672\n",
      "1     8889\n",
      "Name: outBinary, dtype: int64)\n",
      "Downsampling the data into bins by UT hour\n",
      "('new DF label counts---->', 1    8889\n",
      "0    8889\n",
      "Name: outBinary, dtype: int64)\n",
      "                     bin_0  mlat_0     mlt_0  del_minutes data_label  \\\n",
      "1997-01-01 00:30:00      0  -1.000 -1.000000         -1.0          S   \n",
      "1997-01-01 01:30:00      1   0.835  0.007306         46.0          S   \n",
      "1997-01-01 02:00:00      1   0.835  0.007306         16.0          S   \n",
      "1997-01-01 03:30:00      0  -1.000 -1.000000         -1.0          S   \n",
      "1997-01-01 04:30:00      0  -1.000 -1.000000         -1.0          S   \n",
      "\n",
      "                     outBinary  hour                date  \n",
      "1997-01-01 00:30:00          0     0 1997-01-01 00:30:00  \n",
      "1997-01-01 01:30:00          1     1 1997-01-01 01:30:00  \n",
      "1997-01-01 02:00:00          1     2 1997-01-01 02:00:00  \n",
      "1997-01-01 03:30:00          0     3 1997-01-01 03:30:00  \n",
      "1997-01-01 04:30:00          0     4 1997-01-01 04:30:00  \n",
      "-------------\n",
      "(17778, 8)\n"
     ]
    }
   ],
   "source": [
    "dataObj = create_onset_data.OnsetData(useSML=True,delTCutoff=2,\\\n",
    "                    smlDateRange=[datetime.datetime(1997,1,1),\\\n",
    "                    datetime.datetime(2000,1,1)], fillTimeRes=30,\\\n",
    "                    binTimeRes=60, nBins=1, dwnSmplByUT=True )\n",
    "ssBinDF = dataObj.create_sml_bins()\n",
    "print ssBinDF.head()\n",
    "print \"-------------\"\n",
    "print ssBinDF.shape"
   ]
  },
  {
   "cell_type": "code",
   "execution_count": 6,
   "metadata": {},
   "outputs": [
    {
     "name": "stdout",
     "output_type": "stream",
     "text": [
      "hour  outBinary\n",
      "0     0            298\n",
      "      1            298\n",
      "1     0            291\n",
      "      1            291\n",
      "2     0            279\n",
      "      1            279\n",
      "3     0            332\n",
      "      1            332\n",
      "4     0            339\n",
      "      1            339\n",
      "5     0            365\n",
      "      1            365\n",
      "6     0            359\n",
      "      1            359\n",
      "7     0            413\n",
      "      1            413\n",
      "8     0            419\n",
      "      1            419\n",
      "9     0            417\n",
      "      1            417\n",
      "10    0            414\n",
      "      1            414\n",
      "11    0            403\n",
      "      1            403\n",
      "12    0            367\n",
      "      1            367\n",
      "13    0            365\n",
      "      1            365\n",
      "14    0            375\n",
      "      1            375\n",
      "15    0            393\n",
      "      1            393\n",
      "16    0            432\n",
      "      1            432\n",
      "17    0            432\n",
      "      1            432\n",
      "18    0            407\n",
      "      1            407\n",
      "19    0            394\n",
      "      1            394\n",
      "20    0            367\n",
      "      1            367\n",
      "21    0            365\n",
      "      1            365\n",
      "22    0            331\n",
      "      1            331\n",
      "23    0            332\n",
      "      1            332\n",
      "dtype: int64\n"
     ]
    }
   ],
   "source": [
    "ssBinDF[\"hour\"] = pandas.DatetimeIndex(ssBinDF.index).hour\n",
    "\n",
    "test = ssBinDF.groupby([\"hour\", \"outBinary\"]).size()\n",
    "print test"
   ]
  },
  {
   "cell_type": "code",
   "execution_count": null,
   "metadata": {},
   "outputs": [],
   "source": []
  }
 ],
 "metadata": {
  "kernelspec": {
   "display_name": "Python 2",
   "language": "python",
   "name": "python2"
  },
  "language_info": {
   "codemirror_mode": {
    "name": "ipython",
    "version": 2
   },
   "file_extension": ".py",
   "mimetype": "text/x-python",
   "name": "python",
   "nbconvert_exporter": "python",
   "pygments_lexer": "ipython2",
   "version": "2.7.6"
  }
 },
 "nbformat": 4,
 "nbformat_minor": 2
}
