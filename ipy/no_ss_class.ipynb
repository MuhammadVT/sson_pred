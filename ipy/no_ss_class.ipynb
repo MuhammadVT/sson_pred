{
 "cells": [
  {
   "cell_type": "code",
   "execution_count": 1,
   "metadata": {},
   "outputs": [],
   "source": [
    "import warnings\n",
    "warnings.filterwarnings(\"ignore\")\n",
    "import pandas\n",
    "import datetime\n",
    "import os\n",
    "import sys\n",
    "module_path = os.path.abspath(os.path.join('../data_pipeline/'))\n",
    "if module_path not in sys.path:\n",
    "    sys.path.append(module_path)\n",
    "import sqlite3\n",
    "import create_onset_data"
   ]
  },
  {
   "cell_type": "code",
   "execution_count": 2,
   "metadata": {},
   "outputs": [],
   "source": [
    "inds_dbdir = \"/home/bharat/Documents/data/ss_onset_dataset/data/sqlite3/\"\n",
    "sm_db_name = \"smu_sml_sme.sqlite\"\n",
    "sm_table_name = \"smusmlsme\""
   ]
  },
  {
   "cell_type": "code",
   "execution_count": 3,
   "metadata": {},
   "outputs": [
    {
     "name": "stdout",
     "output_type": "stream",
     "text": [
      "('data distribution---->', {0: 14482, 1: 19059, 2: 19047, 3: 6347})\n",
      "('more data found than required---', 4577, 28304)\n",
      "no common rows found between ss and non-ss data\n",
      "('expanded with new non-SS data--->', 58935, 63512)\n",
      "                     bin_0  bin_1    mlat_0  mlat_1     mlt_0  mlt_1  \\\n",
      "1996-03-30 03:41:00      0      0 -1.000000    -1.0 -1.000000   -1.0   \n",
      "1996-03-30 03:42:00      1      0  0.763333    -1.0  0.998056   -1.0   \n",
      "1996-03-30 03:43:00      1      0  0.763333    -1.0  0.998056   -1.0   \n",
      "1996-03-30 03:44:00      1      0  0.763333    -1.0  0.998056   -1.0   \n",
      "1996-03-30 03:45:00      1      0  0.763333    -1.0  0.998056   -1.0   \n",
      "\n",
      "                     del_minutes data_label  \n",
      "1996-03-30 03:41:00        30.95          P  \n",
      "1996-03-30 03:42:00        29.95          P  \n",
      "1996-03-30 03:43:00        28.95          P  \n",
      "1996-03-30 03:44:00        27.95          P  \n",
      "1996-03-30 03:45:00        26.95          P  \n"
     ]
    }
   ],
   "source": [
    "dataObj = create_onset_data.OnsetData(delTCutoff=2)\n",
    "ssBinDF = dataObj.create_output_bins(\\\n",
    "                saveFile=\"../data/binned_data_extra_latlon.feather\",\\\n",
    "                aulDBdir=inds_dbdir, \\\n",
    "                 aulDBName=sm_db_name,\\\n",
    "                 aulTabName=sm_table_name)\n",
    "# print ssBinDF.head()\n",
    "# print \"-------------\"\n",
    "# print ssBinDF.shape"
   ]
  },
  {
   "cell_type": "code",
   "execution_count": null,
   "metadata": {},
   "outputs": [],
   "source": []
  }
 ],
 "metadata": {
  "kernelspec": {
   "display_name": "Python 2",
   "language": "python",
   "name": "python2"
  },
  "language_info": {
   "codemirror_mode": {
    "name": "ipython",
    "version": 2
   },
   "file_extension": ".py",
   "mimetype": "text/x-python",
   "name": "python",
   "nbconvert_exporter": "python",
   "pygments_lexer": "ipython2",
   "version": "2.7.6"
  }
 },
 "nbformat": 4,
 "nbformat_minor": 2
}
