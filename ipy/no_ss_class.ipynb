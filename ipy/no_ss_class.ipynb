{
 "cells": [
  {
   "cell_type": "code",
   "execution_count": 1,
   "metadata": {},
   "outputs": [],
   "source": [
    "import warnings\n",
    "warnings.filterwarnings(\"ignore\")\n",
    "import pandas\n",
    "import datetime\n",
    "import os\n",
    "import sys\n",
    "module_path = os.path.abspath(os.path.join('../data_pipeline/'))\n",
    "if module_path not in sys.path:\n",
    "    sys.path.append(module_path)\n",
    "import sqlite3\n",
    "import create_onset_data"
   ]
  },
  {
   "cell_type": "code",
   "execution_count": 2,
   "metadata": {},
   "outputs": [],
   "source": [
    "inds_dbdir = \"/home/bharat/Documents/data/ss_onset_dataset/data/sqlite3/\"\n",
    "sm_db_name = \"smu_sml_sme.sqlite\"\n",
    "sm_table_name = \"smusmlsme\""
   ]
  },
  {
   "cell_type": "code",
   "execution_count": 3,
   "metadata": {},
   "outputs": [],
   "source": [
    "# dataObj = create_onset_data.OnsetData(delTCutoff=2)\n",
    "# ssBinDF = dataObj.create_output_bins(\\\n",
    "#                 saveFile=\"../data/binned_data_extra_latlon.feather\",\\\n",
    "#                 aulDBdir=inds_dbdir, \\\n",
    "#                  aulDBName=sm_db_name,\\\n",
    "#                  aulTabName=sm_table_name)\n",
    "# # print ssBinDF.head()\n",
    "# # print \"-------------\"\n",
    "# # print ssBinDF.shape"
   ]
  },
  {
   "cell_type": "code",
   "execution_count": 4,
   "metadata": {},
   "outputs": [],
   "source": [
    "# ssBinDF.tail(6000)[\"data_label\"].value_counts()"
   ]
  },
  {
   "cell_type": "code",
   "execution_count": 5,
   "metadata": {},
   "outputs": [
    {
     "name": "stdout",
     "output_type": "stream",
     "text": [
      "('Working through year-->', 1997)\n",
      "('Working through year-->', 1998)\n",
      "('Working through year-->', 1999)\n",
      "('Working through year-->', 2000)\n",
      "                     bin_0  mlat_0     mlt_0  del_minutes data_label  multi_ss\n",
      "1997-01-01 00:00:00      0  -1.000 -1.000000         -1.0          S         0\n",
      "1997-01-01 00:30:00      0  -1.000 -1.000000         -1.0          S         0\n",
      "1997-01-01 01:00:00      0  -1.000 -1.000000         -1.0          S         0\n",
      "1997-01-01 01:30:00      1   0.835  0.007306         46.0          S         0\n",
      "1997-01-01 02:00:00      1   0.835  0.007306         16.0          S         0\n",
      "('original DF label counts---->', 0    43672\n",
      "1     8889\n",
      "Name: outBinary, dtype: int64)\n",
      "Downsampling the data into bins by UT hour\n",
      "('new DF label counts---->', 1    8889\n",
      "0    8889\n",
      "Name: outBinary, dtype: int64)\n",
      "                     bin_0  mlat_0     mlt_0  del_minutes data_label  \\\n",
      "1997-01-01 00:30:00      0  -1.000 -1.000000         -1.0          S   \n",
      "1997-01-01 01:30:00      1   0.835  0.007306         46.0          S   \n",
      "1997-01-01 02:00:00      1   0.835  0.007306         16.0          S   \n",
      "1997-01-01 03:30:00      0  -1.000 -1.000000         -1.0          S   \n",
      "1997-01-01 04:30:00      0  -1.000 -1.000000         -1.0          S   \n",
      "\n",
      "                     multi_ss  outBinary  hour                date  \n",
      "1997-01-01 00:30:00         0          0     0 1997-01-01 00:30:00  \n",
      "1997-01-01 01:30:00         0          1     1 1997-01-01 01:30:00  \n",
      "1997-01-01 02:00:00         0          1     2 1997-01-01 02:00:00  \n",
      "1997-01-01 03:30:00         0          0     3 1997-01-01 03:30:00  \n",
      "1997-01-01 04:30:00         0          0     4 1997-01-01 04:30:00  \n",
      "-------------\n",
      "(17778, 9)\n"
     ]
    }
   ],
   "source": [
    "dataObj = create_onset_data.OnsetData(useSML=True,delTCutoff=2,\\\n",
    "                    smlDateRange=[datetime.datetime(1997,1,1),\\\n",
    "                    datetime.datetime(2000,1,1)], fillTimeRes=30,\\\n",
    "                    binTimeRes=60, nBins=1, dwnSmplByUT=True )\n",
    "ssBinDF = dataObj.create_sml_bins()\n",
    "print ssBinDF.head()\n",
    "print \"-------------\"\n",
    "print ssBinDF.shape"
   ]
  },
  {
   "cell_type": "code",
   "execution_count": 6,
   "metadata": {},
   "outputs": [],
   "source": [
    "# ssBinDF[\"hour\"] = pandas.DatetimeIndex(ssBinDF.index).hour\n",
    "# test = ssBinDF.groupby([\"hour\", \"outBinary\"]).size()\n",
    "# print test"
   ]
  },
  {
   "cell_type": "code",
   "execution_count": 19,
   "metadata": {},
   "outputs": [
    {
     "data": {
      "text/plain": [
       "(8889, 9)"
      ]
     },
     "execution_count": 19,
     "metadata": {},
     "output_type": "execute_result"
    }
   ],
   "source": [
    "ssBinDF[ (ssBinDF[\"bin_0\"] == 1) ].shape"
   ]
  },
  {
   "cell_type": "code",
   "execution_count": null,
   "metadata": {},
   "outputs": [],
   "source": []
  }
 ],
 "metadata": {
  "kernelspec": {
   "display_name": "Python 2",
   "language": "python",
   "name": "python2"
  },
  "language_info": {
   "codemirror_mode": {
    "name": "ipython",
    "version": 2
   },
   "file_extension": ".py",
   "mimetype": "text/x-python",
   "name": "python",
   "nbconvert_exporter": "python",
   "pygments_lexer": "ipython2",
   "version": "2.7.6"
  }
 },
 "nbformat": 4,
 "nbformat_minor": 2
}
