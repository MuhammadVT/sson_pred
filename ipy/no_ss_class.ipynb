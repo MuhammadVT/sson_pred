{
 "cells": [
  {
   "cell_type": "code",
   "execution_count": 1,
   "metadata": {},
   "outputs": [
    {
     "name": "stderr",
     "output_type": "stream",
     "text": [
      "/usr/local/lib/python2.7/dist-packages/pandas/_libs/__init__.py:4: RuntimeWarning: numpy.dtype size changed, may indicate binary incompatibility. Expected 96, got 88\n",
      "  from .tslib import iNaT, NaT, Timestamp, Timedelta, OutOfBoundsDatetime\n",
      "/usr/local/lib/python2.7/dist-packages/pandas/__init__.py:26: RuntimeWarning: numpy.dtype size changed, may indicate binary incompatibility. Expected 96, got 88\n",
      "  from pandas._libs import (hashtable as _hashtable,\n",
      "/usr/local/lib/python2.7/dist-packages/pandas/core/dtypes/common.py:6: RuntimeWarning: numpy.dtype size changed, may indicate binary incompatibility. Expected 96, got 88\n",
      "  from pandas._libs import algos, lib\n",
      "/usr/local/lib/python2.7/dist-packages/pandas/core/util/hashing.py:7: RuntimeWarning: numpy.dtype size changed, may indicate binary incompatibility. Expected 96, got 88\n",
      "  from pandas._libs import hashing, tslib\n",
      "/usr/local/lib/python2.7/dist-packages/pandas/core/indexes/base.py:7: RuntimeWarning: numpy.dtype size changed, may indicate binary incompatibility. Expected 96, got 88\n",
      "  from pandas._libs import (lib, index as libindex, tslib as libts,\n",
      "/usr/local/lib/python2.7/dist-packages/pandas/tseries/offsets.py:21: RuntimeWarning: numpy.dtype size changed, may indicate binary incompatibility. Expected 96, got 88\n",
      "  import pandas._libs.tslibs.offsets as liboffsets\n",
      "/usr/local/lib/python2.7/dist-packages/pandas/core/ops.py:16: RuntimeWarning: numpy.dtype size changed, may indicate binary incompatibility. Expected 96, got 88\n",
      "  from pandas._libs import algos as libalgos, ops as libops\n",
      "/usr/local/lib/python2.7/dist-packages/pandas/core/indexes/interval.py:32: RuntimeWarning: numpy.dtype size changed, may indicate binary incompatibility. Expected 96, got 88\n",
      "  from pandas._libs.interval import (\n",
      "/usr/local/lib/python2.7/dist-packages/pandas/core/internals.py:14: RuntimeWarning: numpy.dtype size changed, may indicate binary incompatibility. Expected 96, got 88\n",
      "  from pandas._libs import internals as libinternals\n",
      "/usr/local/lib/python2.7/dist-packages/pandas/core/sparse/array.py:33: RuntimeWarning: numpy.dtype size changed, may indicate binary incompatibility. Expected 96, got 88\n",
      "  import pandas._libs.sparse as splib\n",
      "/usr/local/lib/python2.7/dist-packages/pandas/core/window.py:36: RuntimeWarning: numpy.dtype size changed, may indicate binary incompatibility. Expected 96, got 88\n",
      "  import pandas._libs.window as _window\n",
      "/usr/local/lib/python2.7/dist-packages/pandas/core/groupby/groupby.py:68: RuntimeWarning: numpy.dtype size changed, may indicate binary incompatibility. Expected 96, got 88\n",
      "  from pandas._libs import (lib, reduction,\n",
      "/usr/local/lib/python2.7/dist-packages/pandas/core/reshape/reshape.py:30: RuntimeWarning: numpy.dtype size changed, may indicate binary incompatibility. Expected 96, got 88\n",
      "  from pandas._libs import algos as _algos, reshape as _reshape\n",
      "/usr/local/lib/python2.7/dist-packages/pandas/io/parsers.py:45: RuntimeWarning: numpy.dtype size changed, may indicate binary incompatibility. Expected 96, got 88\n",
      "  import pandas._libs.parsers as parsers\n",
      "/usr/local/lib/python2.7/dist-packages/pandas/io/pytables.py:50: RuntimeWarning: numpy.dtype size changed, may indicate binary incompatibility. Expected 96, got 88\n",
      "  from pandas._libs import algos, lib, writers as libwriters\n",
      "/usr/local/lib/python2.7/dist-packages/h5py/__init__.py:34: RuntimeWarning: numpy.dtype size changed, may indicate binary incompatibility. Expected 96, got 88\n",
      "  from ._conv import register_converters as _register_converters\n",
      "/usr/local/lib/python2.7/dist-packages/h5py/__init__.py:34: FutureWarning: Conversion of the second argument of issubdtype from `float` to `np.floating` is deprecated. In future, it will be treated as `np.float64 == np.dtype(float).type`.\n",
      "  from ._conv import register_converters as _register_converters\n",
      "/usr/local/lib/python2.7/dist-packages/h5py/__init__.py:43: RuntimeWarning: numpy.dtype size changed, may indicate binary incompatibility. Expected 96, got 88\n",
      "  from . import h5a, h5d, h5ds, h5f, h5fd, h5g, h5r, h5s, h5t, h5p, h5z\n",
      "/usr/local/lib/python2.7/dist-packages/h5py/_hl/group.py:24: RuntimeWarning: numpy.dtype size changed, may indicate binary incompatibility. Expected 96, got 88\n",
      "  from .. import h5g, h5i, h5o, h5r, h5t, h5l, h5p\n",
      "/usr/local/lib/python2.7/dist-packages/scipy/sparse/lil.py:16: RuntimeWarning: numpy.dtype size changed, may indicate binary incompatibility. Expected 96, got 88\n",
      "  from . import _csparsetools\n",
      "/usr/local/lib/python2.7/dist-packages/scipy/sparse/csgraph/__init__.py:167: RuntimeWarning: numpy.dtype size changed, may indicate binary incompatibility. Expected 96, got 88\n",
      "  from ._shortest_path import shortest_path, floyd_warshall, dijkstra,\\\n",
      "/usr/local/lib/python2.7/dist-packages/scipy/sparse/csgraph/_validation.py:5: RuntimeWarning: numpy.dtype size changed, may indicate binary incompatibility. Expected 96, got 88\n",
      "  from ._tools import csgraph_to_dense, csgraph_from_dense,\\\n",
      "/usr/local/lib/python2.7/dist-packages/scipy/sparse/csgraph/__init__.py:169: RuntimeWarning: numpy.dtype size changed, may indicate binary incompatibility. Expected 96, got 88\n",
      "  from ._traversal import breadth_first_order, depth_first_order, \\\n",
      "/usr/local/lib/python2.7/dist-packages/scipy/sparse/csgraph/__init__.py:171: RuntimeWarning: numpy.dtype size changed, may indicate binary incompatibility. Expected 96, got 88\n",
      "  from ._min_spanning_tree import minimum_spanning_tree\n",
      "/usr/local/lib/python2.7/dist-packages/scipy/sparse/csgraph/__init__.py:172: RuntimeWarning: numpy.dtype size changed, may indicate binary incompatibility. Expected 96, got 88\n",
      "  from ._reordering import reverse_cuthill_mckee, maximum_bipartite_matching, \\\n",
      "/usr/local/lib/python2.7/dist-packages/scipy/linalg/basic.py:17: RuntimeWarning: numpy.dtype size changed, may indicate binary incompatibility. Expected 96, got 88\n",
      "  from ._solve_toeplitz import levinson\n",
      "/usr/local/lib/python2.7/dist-packages/scipy/linalg/__init__.py:191: RuntimeWarning: numpy.dtype size changed, may indicate binary incompatibility. Expected 96, got 88\n",
      "  from ._decomp_update import *\n",
      "/usr/local/lib/python2.7/dist-packages/scipy/special/__init__.py:640: RuntimeWarning: numpy.dtype size changed, may indicate binary incompatibility. Expected 96, got 88\n",
      "  from ._ufuncs import *\n",
      "/usr/local/lib/python2.7/dist-packages/scipy/special/_ellip_harm.py:7: RuntimeWarning: numpy.dtype size changed, may indicate binary incompatibility. Expected 96, got 88\n",
      "  from ._ellip_harm_2 import _ellipsoid, _ellipsoid_norm\n",
      "/usr/local/lib/python2.7/dist-packages/scipy/optimize/_numdiff.py:8: RuntimeWarning: numpy.dtype size changed, may indicate binary incompatibility. Expected 96, got 88\n",
      "  from ._group_columns import group_dense, group_sparse\n",
      "/usr/local/lib/python2.7/dist-packages/scipy/interpolate/_bsplines.py:9: RuntimeWarning: numpy.dtype size changed, may indicate binary incompatibility. Expected 96, got 88\n",
      "  from . import _bspl\n",
      "/usr/local/lib/python2.7/dist-packages/scipy/spatial/__init__.py:94: RuntimeWarning: numpy.dtype size changed, may indicate binary incompatibility. Expected 96, got 88\n",
      "  from .ckdtree import *\n",
      "/usr/local/lib/python2.7/dist-packages/scipy/spatial/__init__.py:95: RuntimeWarning: numpy.dtype size changed, may indicate binary incompatibility. Expected 96, got 88\n",
      "  from .qhull import *\n",
      "/usr/local/lib/python2.7/dist-packages/scipy/spatial/_spherical_voronoi.py:18: RuntimeWarning: numpy.dtype size changed, may indicate binary incompatibility. Expected 96, got 88\n",
      "  from . import _voronoi\n",
      "/usr/local/lib/python2.7/dist-packages/scipy/spatial/distance.py:121: RuntimeWarning: numpy.dtype size changed, may indicate binary incompatibility. Expected 96, got 88\n",
      "  from . import _hausdorff\n",
      "/usr/local/lib/python2.7/dist-packages/scipy/ndimage/measurements.py:36: RuntimeWarning: numpy.dtype size changed, may indicate binary incompatibility. Expected 96, got 88\n",
      "  from . import _ni_label\n"
     ]
    }
   ],
   "source": [
    "import pandas\n",
    "import datetime\n",
    "import os\n",
    "import sys\n",
    "module_path = os.path.abspath(os.path.join('../data_pipeline/'))\n",
    "if module_path not in sys.path:\n",
    "    sys.path.append(module_path)\n",
    "import sqlite3\n",
    "import create_onset_data"
   ]
  },
  {
   "cell_type": "code",
   "execution_count": 2,
   "metadata": {},
   "outputs": [],
   "source": [
    "# ae_dbdir = \"/home/bharat/Documents/data/ss_onset_dataset/data/sqlite3/\"\n",
    "# ae_db_name = \"au_al_ae.sqlite\"\n",
    "# omn_table_name = \"aualae\"\n",
    "# start_date = datetime.datetime(1996,1,1)\n",
    "# end_date = datetime.datetime(1996,12,31)\n",
    "# # set some cutoffs for AL/AE indices\n",
    "# alSSCutoff = -10\n",
    "# aeSSCutoff = 50\n",
    "# # set some cutoffs for time\n",
    "# minDelT = 5 # min\n",
    "# # the continuous set of time range\n",
    "# # which is considered a non-substorm\n",
    "# # period. In other words, if non-SS\n",
    "# # conditions are satisfied for this\n",
    "# # interval of time (say 3 hours), then\n",
    "# # we consider this period to be a non-ss\n",
    "# # period.\n",
    "# minDiffTime = 180 # min"
   ]
  },
  {
   "cell_type": "code",
   "execution_count": 3,
   "metadata": {},
   "outputs": [],
   "source": [
    "# conn = sqlite3.connect(ae_dbdir + ae_db_name,\n",
    "#                        detect_types = sqlite3.PARSE_DECLTYPES)\n",
    "# # load data to a dataframe\n",
    "# command = \"SELECT * FROM {tb} \" +\\\n",
    "#                   \"WHERE datetime BETWEEN '{stm}' and '{etm}'\"\n",
    "# command = command.format(tb=omn_table_name,\\\n",
    "#                          stm=start_date, etm=end_date)\n",
    "# aulDF = pandas.read_sql(command, conn)"
   ]
  },
  {
   "cell_type": "code",
   "execution_count": 4,
   "metadata": {},
   "outputs": [],
   "source": [
    "# aulDF = aulDF[ (aulDF[\"al\"] >= alSSCutoff) &\\\n",
    "#              (aulDF[\"ae\"] <= aeSSCutoff)\\\n",
    "#              ].reset_index(drop=True)\n",
    "# # Calculate the time diff between two consecutive timesteps\n",
    "# aulDF[\"delT\"] = aulDF[\"datetime\"].diff()\n",
    "# # convert the difference to minutes\n",
    "# aulDF[\"delT\"] = aulDF[\"delT\"].apply(\\\n",
    "#             lambda x: x.total_seconds()/60. )"
   ]
  },
  {
   "cell_type": "code",
   "execution_count": 5,
   "metadata": {},
   "outputs": [],
   "source": [
    "# print aulDF[ aulDF[\"delT\"] > 1. ].shape, aulDF[ aulDF[\"delT\"] == 1. ].shape"
   ]
  },
  {
   "cell_type": "code",
   "execution_count": 6,
   "metadata": {},
   "outputs": [],
   "source": [
    "# # get contiguous set of measurements where\n",
    "# # there is no ss\n",
    "# # here we're getting a diff on the series to get\n",
    "# # the most continuous dataset\n",
    "# brkInds = aulDF[ (aulDF[\"delT\"] > minDelT)\\\n",
    "#                ].index.to_frame().diff().reset_index()\n",
    "# brkInds.columns = [ \"inds\", \"diffs\" ]\n",
    "# # now we also need index value from prev row\n",
    "# # to get the range of time\n",
    "# shftdRows = brkInds[\"inds\"].shift(1)\n",
    "# brkInds[\"prevRowInds\"] = shftdRows"
   ]
  },
  {
   "cell_type": "code",
   "execution_count": 7,
   "metadata": {},
   "outputs": [],
   "source": [
    "# # the continous set of time with no substorm activity \n",
    "# # would be [prevRowInds:inds-1]\n",
    "# print brkInds[ brkInds[\"diffs\"] > minDiffTime ].head(10)"
   ]
  },
  {
   "cell_type": "code",
   "execution_count": 8,
   "metadata": {},
   "outputs": [],
   "source": [
    "# for row in brkInds[ brkInds[\"diffs\"] > minDiffTime ].iterrows():\n",
    "#     dd = aulDF.iloc[ int(row[1][\"prevRowInds\"]): int(row[1][\"inds\"]-1)][\"datetime\"]\n",
    "#     print dd.min(), dd.max()"
   ]
  },
  {
   "cell_type": "code",
   "execution_count": 9,
   "metadata": {},
   "outputs": [],
   "source": [
    "inds_dbdir = \"/home/bharat/Documents/data/ss_onset_dataset/data/sqlite3/\"\n",
    "sm_db_name = \"smu_sml_sme.sqlite\"\n",
    "sm_table_name = \"smusmlsme\""
   ]
  },
  {
   "cell_type": "code",
   "execution_count": 10,
   "metadata": {},
   "outputs": [
    {
     "name": "stdout",
     "output_type": "stream",
     "text": [
      "more data found than required--- 21840 27159\n",
      "no common rows found between ss and non-ss data\n",
      "expanded with new non-SS data---> 53927 75767\n",
      "                     bin_0  bin_1  bin_2  mlat_0  mlat_1    mlat_2  mlt_0  \\\n",
      "1996-03-30 04:11:00    0.0    0.0    1.0    -1.0    -1.0  0.761111   -1.0   \n",
      "1996-03-30 04:12:00    0.0    0.0    1.0    -1.0    -1.0  0.761111   -1.0   \n",
      "1996-03-30 04:13:00    0.0    0.0    1.0    -1.0    -1.0  0.761111   -1.0   \n",
      "1996-03-30 04:14:00    0.0    0.0    1.0    -1.0    -1.0  0.761111   -1.0   \n",
      "1996-03-30 04:15:00    0.0    0.0    1.0    -1.0    -1.0  0.761111   -1.0   \n",
      "\n",
      "                     mlt_1     mlt_2  del_minutes  \n",
      "1996-03-30 04:11:00   -1.0  0.983056         -1.0  \n",
      "1996-03-30 04:12:00   -1.0  0.983056         66.8  \n",
      "1996-03-30 04:13:00   -1.0  0.983056         65.8  \n",
      "1996-03-30 04:14:00   -1.0  0.983056         64.8  \n",
      "1996-03-30 04:15:00   -1.0  0.983056         63.8  \n",
      "                     bin_0  bin_1  bin_2  mlat_0  mlat_1    mlat_2  mlt_0  \\\n",
      "1996-03-30 04:11:00    0.0    0.0    1.0    -1.0    -1.0  0.761111   -1.0   \n",
      "1996-03-30 04:12:00    0.0    0.0    1.0    -1.0    -1.0  0.761111   -1.0   \n",
      "1996-03-30 04:13:00    0.0    0.0    1.0    -1.0    -1.0  0.761111   -1.0   \n",
      "1996-03-30 04:14:00    0.0    0.0    1.0    -1.0    -1.0  0.761111   -1.0   \n",
      "1996-03-30 04:15:00    0.0    0.0    1.0    -1.0    -1.0  0.761111   -1.0   \n",
      "\n",
      "                     mlt_1     mlt_2  del_minutes                date  \n",
      "1996-03-30 04:11:00   -1.0  0.983056         -1.0 1996-03-30 04:11:00  \n",
      "1996-03-30 04:12:00   -1.0  0.983056         66.8 1996-03-30 04:12:00  \n",
      "1996-03-30 04:13:00   -1.0  0.983056         65.8 1996-03-30 04:13:00  \n",
      "1996-03-30 04:14:00   -1.0  0.983056         64.8 1996-03-30 04:14:00  \n",
      "1996-03-30 04:15:00   -1.0  0.983056         63.8 1996-03-30 04:15:00  \n",
      "-------------\n",
      "(75767, 11)\n"
     ]
    }
   ],
   "source": [
    "dataObj = create_onset_data.OnsetData()\n",
    "ssBinDF = dataObj.create_output_bins(\\\n",
    "                saveFile=\"../data/binned_data_extra_latlon.feather\",\\\n",
    "                aulDBdir=inds_dbdir, \\\n",
    "                 aulDBName=sm_db_name,\\\n",
    "                 aulTabName=sm_table_name)\n",
    "print ssBinDF.head()\n",
    "print \"-------------\"\n",
    "print ssBinDF.shape"
   ]
  },
  {
   "cell_type": "code",
   "execution_count": null,
   "metadata": {},
   "outputs": [],
   "source": []
  }
 ],
 "metadata": {
  "kernelspec": {
   "display_name": "Python 2",
   "language": "python",
   "name": "python2"
  },
  "language_info": {
   "codemirror_mode": {
    "name": "ipython",
    "version": 2
   },
   "file_extension": ".py",
   "mimetype": "text/x-python",
   "name": "python",
   "nbconvert_exporter": "python",
   "pygments_lexer": "ipython2",
   "version": "2.7.6"
  }
 },
 "nbformat": 4,
 "nbformat_minor": 2
}
