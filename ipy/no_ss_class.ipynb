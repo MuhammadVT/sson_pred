{
 "cells": [
  {
   "cell_type": "code",
   "execution_count": 1,
   "metadata": {},
   "outputs": [
    {
     "name": "stderr",
     "output_type": "stream",
     "text": [
      "/usr/local/lib/python2.7/dist-packages/pandas/_libs/__init__.py:4: RuntimeWarning: numpy.dtype size changed, may indicate binary incompatibility. Expected 96, got 88\n",
      "  from .tslib import iNaT, NaT, Timestamp, Timedelta, OutOfBoundsDatetime\n",
      "/usr/local/lib/python2.7/dist-packages/pandas/__init__.py:26: RuntimeWarning: numpy.dtype size changed, may indicate binary incompatibility. Expected 96, got 88\n",
      "  from pandas._libs import (hashtable as _hashtable,\n",
      "/usr/local/lib/python2.7/dist-packages/pandas/core/dtypes/common.py:6: RuntimeWarning: numpy.dtype size changed, may indicate binary incompatibility. Expected 96, got 88\n",
      "  from pandas._libs import algos, lib\n",
      "/usr/local/lib/python2.7/dist-packages/pandas/core/util/hashing.py:7: RuntimeWarning: numpy.dtype size changed, may indicate binary incompatibility. Expected 96, got 88\n",
      "  from pandas._libs import hashing, tslib\n",
      "/usr/local/lib/python2.7/dist-packages/pandas/core/indexes/base.py:7: RuntimeWarning: numpy.dtype size changed, may indicate binary incompatibility. Expected 96, got 88\n",
      "  from pandas._libs import (lib, index as libindex, tslib as libts,\n",
      "/usr/local/lib/python2.7/dist-packages/pandas/tseries/offsets.py:21: RuntimeWarning: numpy.dtype size changed, may indicate binary incompatibility. Expected 96, got 88\n",
      "  import pandas._libs.tslibs.offsets as liboffsets\n",
      "/usr/local/lib/python2.7/dist-packages/pandas/core/ops.py:16: RuntimeWarning: numpy.dtype size changed, may indicate binary incompatibility. Expected 96, got 88\n",
      "  from pandas._libs import algos as libalgos, ops as libops\n",
      "/usr/local/lib/python2.7/dist-packages/pandas/core/indexes/interval.py:32: RuntimeWarning: numpy.dtype size changed, may indicate binary incompatibility. Expected 96, got 88\n",
      "  from pandas._libs.interval import (\n",
      "/usr/local/lib/python2.7/dist-packages/pandas/core/internals.py:14: RuntimeWarning: numpy.dtype size changed, may indicate binary incompatibility. Expected 96, got 88\n",
      "  from pandas._libs import internals as libinternals\n",
      "/usr/local/lib/python2.7/dist-packages/pandas/core/sparse/array.py:33: RuntimeWarning: numpy.dtype size changed, may indicate binary incompatibility. Expected 96, got 88\n",
      "  import pandas._libs.sparse as splib\n",
      "/usr/local/lib/python2.7/dist-packages/pandas/core/window.py:36: RuntimeWarning: numpy.dtype size changed, may indicate binary incompatibility. Expected 96, got 88\n",
      "  import pandas._libs.window as _window\n",
      "/usr/local/lib/python2.7/dist-packages/pandas/core/groupby/groupby.py:68: RuntimeWarning: numpy.dtype size changed, may indicate binary incompatibility. Expected 96, got 88\n",
      "  from pandas._libs import (lib, reduction,\n",
      "/usr/local/lib/python2.7/dist-packages/pandas/core/reshape/reshape.py:30: RuntimeWarning: numpy.dtype size changed, may indicate binary incompatibility. Expected 96, got 88\n",
      "  from pandas._libs import algos as _algos, reshape as _reshape\n",
      "/usr/local/lib/python2.7/dist-packages/pandas/io/parsers.py:45: RuntimeWarning: numpy.dtype size changed, may indicate binary incompatibility. Expected 96, got 88\n",
      "  import pandas._libs.parsers as parsers\n",
      "/usr/local/lib/python2.7/dist-packages/pandas/io/pytables.py:50: RuntimeWarning: numpy.dtype size changed, may indicate binary incompatibility. Expected 96, got 88\n",
      "  from pandas._libs import algos, lib, writers as libwriters\n"
     ]
    }
   ],
   "source": [
    "import pandas\n",
    "import datetime\n",
    "import os\n",
    "import sys\n",
    "module_path = os.path.abspath(os.path.join('../data_pipeline/'))\n",
    "if module_path not in sys.path:\n",
    "    sys.path.append(module_path)\n",
    "import sqlite3"
   ]
  },
  {
   "cell_type": "code",
   "execution_count": 2,
   "metadata": {},
   "outputs": [],
   "source": [
    "ae_dbdir = \"/home/bharat/Documents/data/ss_onset_dataset/data/sqlite3/\"\n",
    "ae_db_name = \"au_al_ae.sqlite\"\n",
    "omn_table_name = \"aualae\"\n",
    "start_date = datetime.datetime(1996,1,1)\n",
    "end_date = datetime.datetime(1996,12,31)\n",
    "# set some cutoffs for AL/AE indices\n",
    "alSSCutoff = -10\n",
    "aeSSCutoff = 50\n",
    "# set some cutoffs for time\n",
    "minDelT = 5 # min\n",
    "# the continuous set of time range\n",
    "# which is considered a non-substorm\n",
    "# period. In other words, if non-SS\n",
    "# conditions are satisfied for this\n",
    "# interval of time (say 3 hours), then\n",
    "# we consider this period to be a non-ss\n",
    "# period.\n",
    "minDiffTime = 180 # min"
   ]
  },
  {
   "cell_type": "code",
   "execution_count": 3,
   "metadata": {},
   "outputs": [],
   "source": [
    "conn = sqlite3.connect(ae_dbdir + ae_db_name,\n",
    "                       detect_types = sqlite3.PARSE_DECLTYPES)\n",
    "# load data to a dataframe\n",
    "command = \"SELECT * FROM {tb} \" +\\\n",
    "                  \"WHERE datetime BETWEEN '{stm}' and '{etm}'\"\n",
    "command = command.format(tb=omn_table_name,\\\n",
    "                         stm=start_date, etm=end_date)\n",
    "aulDF = pandas.read_sql(command, conn)"
   ]
  },
  {
   "cell_type": "code",
   "execution_count": 4,
   "metadata": {},
   "outputs": [],
   "source": [
    "aulDF = aulDF[ (aulDF[\"al\"] >= alSSCutoff) &\\\n",
    "             (aulDF[\"ae\"] <= aeSSCutoff)\\\n",
    "             ].reset_index(drop=True)\n",
    "# Calculate the time diff between two consecutive timesteps\n",
    "aulDF[\"delT\"] = aulDF[\"datetime\"].diff()\n",
    "# convert the difference to minutes\n",
    "aulDF[\"delT\"] = aulDF[\"delT\"].apply(\\\n",
    "            lambda x: x.total_seconds()/60. )"
   ]
  },
  {
   "cell_type": "code",
   "execution_count": 5,
   "metadata": {},
   "outputs": [
    {
     "name": "stdout",
     "output_type": "stream",
     "text": [
      "(5007, 5) (56488, 5)\n"
     ]
    }
   ],
   "source": [
    "print aulDF[ aulDF[\"delT\"] > 1. ].shape, aulDF[ aulDF[\"delT\"] == 1. ].shape"
   ]
  },
  {
   "cell_type": "code",
   "execution_count": 6,
   "metadata": {},
   "outputs": [],
   "source": [
    "# get contiguous set of measurements where\n",
    "# there is no ss\n",
    "# here we're getting a diff on the series to get\n",
    "# the most continuous dataset\n",
    "brkInds = aulDF[ (aulDF[\"delT\"] > minDelT)\\\n",
    "               ].index.to_frame().diff().reset_index()\n",
    "brkInds.columns = [ \"inds\", \"diffs\" ]\n",
    "# now we also need index value from prev row\n",
    "# to get the range of time\n",
    "shftdRows = brkInds[\"inds\"].shift(1)\n",
    "brkInds[\"prevRowInds\"] = shftdRows"
   ]
  },
  {
   "cell_type": "code",
   "execution_count": 7,
   "metadata": {},
   "outputs": [
    {
     "name": "stdout",
     "output_type": "stream",
     "text": [
      "     inds  diffs  prevRowInds\n",
      "2     495  360.0        135.0\n",
      "16    919  202.0        717.0\n",
      "117  3138  217.0       2921.0\n",
      "123  3424  261.0       3163.0\n",
      "126  4039  599.0       3440.0\n",
      "144  4767  299.0       4468.0\n",
      "248  6647  286.0       6361.0\n",
      "252  6916  256.0       6660.0\n",
      "353  8802  506.0       8296.0\n",
      "357  9058  228.0       8830.0\n"
     ]
    }
   ],
   "source": [
    "# the continous set of time with no substorm activity \n",
    "# would be [prevRowInds:inds-1]\n",
    "print brkInds[ brkInds[\"diffs\"] > minDiffTime ].head(10)"
   ]
  },
  {
   "cell_type": "code",
   "execution_count": 8,
   "metadata": {},
   "outputs": [
    {
     "name": "stdout",
     "output_type": "stream",
     "text": [
      "1996-01-01 02:38:00 1996-01-01 08:44:00\n",
      "1996-01-02 04:31:00 1996-01-02 07:51:00\n",
      "1996-01-08 02:04:00 1996-01-08 05:46:00\n",
      "1996-01-08 08:18:00 1996-01-08 12:40:00\n",
      "1996-01-08 21:07:00 1996-01-09 07:07:00\n",
      "1996-01-10 04:05:00 1996-01-10 09:02:00\n",
      "1996-01-22 04:47:00 1996-01-22 09:37:00\n",
      "1996-01-23 02:53:00 1996-01-23 07:09:00\n",
      "1996-02-03 19:26:00 1996-02-04 04:19:00\n",
      "1996-02-04 07:24:00 1996-02-04 11:13:00\n",
      "1996-02-05 05:54:00 1996-02-05 10:10:00\n",
      "1996-02-06 06:41:00 1996-02-06 11:30:00\n",
      "1996-02-06 19:57:00 1996-02-07 00:27:00\n",
      "1996-02-10 00:25:00 1996-02-10 03:39:00\n",
      "1996-02-19 14:25:00 1996-02-19 17:50:00\n",
      "1996-03-01 12:59:00 1996-03-01 16:39:00\n",
      "1996-03-02 06:46:00 1996-03-02 12:19:00\n",
      "1996-03-05 22:05:00 1996-03-06 01:43:00\n",
      "1996-03-06 20:05:00 1996-03-07 02:00:00\n",
      "1996-03-07 20:20:00 1996-03-08 01:25:00\n",
      "1996-03-08 17:49:00 1996-03-08 21:46:00\n",
      "1996-03-14 15:07:00 1996-03-14 18:37:00\n",
      "1996-03-16 17:14:00 1996-03-16 20:28:00\n",
      "1996-03-27 16:21:00 1996-03-27 20:35:00\n",
      "1996-04-08 03:29:00 1996-04-08 07:31:00\n",
      "1996-04-11 17:47:00 1996-04-11 21:06:00\n",
      "1996-09-04 00:09:00 1996-09-04 03:13:00\n",
      "1996-09-08 20:52:00 1996-09-09 02:24:00\n",
      "1996-09-30 00:02:00 1996-09-30 03:27:00\n",
      "1996-10-05 20:34:00 1996-10-06 01:24:00\n",
      "1996-10-06 19:37:00 1996-10-07 00:18:00\n",
      "1996-10-07 03:52:00 1996-10-07 09:12:00\n",
      "1996-10-17 00:30:00 1996-10-17 04:06:00\n",
      "1996-10-17 04:56:00 1996-10-17 09:22:00\n",
      "1996-10-26 21:26:00 1996-10-27 00:55:00\n",
      "1996-11-01 02:55:00 1996-11-01 08:09:00\n",
      "1996-11-02 00:08:00 1996-11-02 04:45:00\n",
      "1996-11-02 17:02:00 1996-11-02 22:46:00\n",
      "1996-11-02 22:55:00 1996-11-03 09:42:00\n",
      "1996-11-03 21:22:00 1996-11-04 00:24:00\n",
      "1996-11-07 21:52:00 1996-11-08 01:52:00\n",
      "1996-11-08 20:47:00 1996-11-09 01:54:00\n",
      "1996-11-24 01:30:00 1996-11-24 07:36:00\n",
      "1996-11-30 03:02:00 1996-11-30 08:29:00\n",
      "1996-11-30 23:48:00 1996-12-01 09:54:00\n",
      "1996-12-01 18:43:00 1996-12-01 23:12:00\n",
      "1996-12-02 00:15:00 1996-12-02 03:53:00\n",
      "1996-12-02 10:05:00 1996-12-02 15:59:00\n",
      "1996-12-05 03:44:00 1996-12-05 06:52:00\n",
      "1996-12-05 19:35:00 1996-12-06 11:24:00\n",
      "1996-12-06 23:02:00 1996-12-07 04:43:00\n",
      "1996-12-07 12:09:00 1996-12-07 16:26:00\n",
      "1996-12-08 00:04:00 1996-12-08 04:50:00\n",
      "1996-12-08 23:10:00 1996-12-09 05:13:00\n",
      "1996-12-13 23:15:00 1996-12-14 08:23:00\n",
      "1996-12-19 03:01:00 1996-12-19 12:07:00\n",
      "1996-12-19 23:50:00 1996-12-20 06:53:00\n",
      "1996-12-20 10:40:00 1996-12-20 14:38:00\n",
      "1996-12-20 21:36:00 1996-12-21 03:41:00\n",
      "1996-12-22 05:43:00 1996-12-22 08:55:00\n",
      "1996-12-23 17:08:00 1996-12-23 20:22:00\n",
      "1996-12-23 20:37:00 1996-12-24 01:25:00\n",
      "1996-12-24 03:48:00 1996-12-24 11:27:00\n",
      "1996-12-24 20:55:00 1996-12-25 00:37:00\n",
      "1996-12-26 03:35:00 1996-12-26 09:24:00\n",
      "1996-12-27 04:12:00 1996-12-27 10:34:00\n",
      "1996-12-28 01:49:00 1996-12-28 06:51:00\n",
      "1996-12-28 22:57:00 1996-12-29 05:34:00\n"
     ]
    }
   ],
   "source": [
    "for row in brkInds[ brkInds[\"diffs\"] > minDiffTime ].iterrows():\n",
    "    dd = aulDF.iloc[ int(row[1][\"prevRowInds\"]): int(row[1][\"inds\"]-1)][\"datetime\"]\n",
    "    print dd.min(), dd.max()"
   ]
  },
  {
   "cell_type": "code",
   "execution_count": null,
   "metadata": {},
   "outputs": [],
   "source": []
  }
 ],
 "metadata": {
  "kernelspec": {
   "display_name": "Python 2",
   "language": "python",
   "name": "python2"
  },
  "language_info": {
   "codemirror_mode": {
    "name": "ipython",
    "version": 2
   },
   "file_extension": ".py",
   "mimetype": "text/x-python",
   "name": "python",
   "nbconvert_exporter": "python",
   "pygments_lexer": "ipython2",
   "version": "2.7.6"
  }
 },
 "nbformat": 4,
 "nbformat_minor": 2
}
