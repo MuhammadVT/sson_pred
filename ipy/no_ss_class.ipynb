{
 "cells": [
  {
   "cell_type": "code",
   "execution_count": 1,
   "metadata": {},
   "outputs": [
    {
     "name": "stderr",
     "output_type": "stream",
     "text": [
      "/usr/local/lib/python2.7/dist-packages/pandas/_libs/__init__.py:4: RuntimeWarning: numpy.dtype size changed, may indicate binary incompatibility. Expected 96, got 88\n",
      "  from .tslib import iNaT, NaT, Timestamp, Timedelta, OutOfBoundsDatetime\n",
      "/usr/local/lib/python2.7/dist-packages/pandas/__init__.py:26: RuntimeWarning: numpy.dtype size changed, may indicate binary incompatibility. Expected 96, got 88\n",
      "  from pandas._libs import (hashtable as _hashtable,\n",
      "/usr/local/lib/python2.7/dist-packages/pandas/core/dtypes/common.py:6: RuntimeWarning: numpy.dtype size changed, may indicate binary incompatibility. Expected 96, got 88\n",
      "  from pandas._libs import algos, lib\n",
      "/usr/local/lib/python2.7/dist-packages/pandas/core/util/hashing.py:7: RuntimeWarning: numpy.dtype size changed, may indicate binary incompatibility. Expected 96, got 88\n",
      "  from pandas._libs import hashing, tslib\n",
      "/usr/local/lib/python2.7/dist-packages/pandas/core/indexes/base.py:7: RuntimeWarning: numpy.dtype size changed, may indicate binary incompatibility. Expected 96, got 88\n",
      "  from pandas._libs import (lib, index as libindex, tslib as libts,\n",
      "/usr/local/lib/python2.7/dist-packages/pandas/tseries/offsets.py:21: RuntimeWarning: numpy.dtype size changed, may indicate binary incompatibility. Expected 96, got 88\n",
      "  import pandas._libs.tslibs.offsets as liboffsets\n",
      "/usr/local/lib/python2.7/dist-packages/pandas/core/ops.py:16: RuntimeWarning: numpy.dtype size changed, may indicate binary incompatibility. Expected 96, got 88\n",
      "  from pandas._libs import algos as libalgos, ops as libops\n",
      "/usr/local/lib/python2.7/dist-packages/pandas/core/indexes/interval.py:32: RuntimeWarning: numpy.dtype size changed, may indicate binary incompatibility. Expected 96, got 88\n",
      "  from pandas._libs.interval import (\n",
      "/usr/local/lib/python2.7/dist-packages/pandas/core/internals.py:14: RuntimeWarning: numpy.dtype size changed, may indicate binary incompatibility. Expected 96, got 88\n",
      "  from pandas._libs import internals as libinternals\n",
      "/usr/local/lib/python2.7/dist-packages/pandas/core/sparse/array.py:33: RuntimeWarning: numpy.dtype size changed, may indicate binary incompatibility. Expected 96, got 88\n",
      "  import pandas._libs.sparse as splib\n",
      "/usr/local/lib/python2.7/dist-packages/pandas/core/window.py:36: RuntimeWarning: numpy.dtype size changed, may indicate binary incompatibility. Expected 96, got 88\n",
      "  import pandas._libs.window as _window\n",
      "/usr/local/lib/python2.7/dist-packages/pandas/core/groupby/groupby.py:68: RuntimeWarning: numpy.dtype size changed, may indicate binary incompatibility. Expected 96, got 88\n",
      "  from pandas._libs import (lib, reduction,\n",
      "/usr/local/lib/python2.7/dist-packages/pandas/core/reshape/reshape.py:30: RuntimeWarning: numpy.dtype size changed, may indicate binary incompatibility. Expected 96, got 88\n",
      "  from pandas._libs import algos as _algos, reshape as _reshape\n",
      "/usr/local/lib/python2.7/dist-packages/pandas/io/parsers.py:45: RuntimeWarning: numpy.dtype size changed, may indicate binary incompatibility. Expected 96, got 88\n",
      "  import pandas._libs.parsers as parsers\n",
      "/usr/local/lib/python2.7/dist-packages/pandas/io/pytables.py:50: RuntimeWarning: numpy.dtype size changed, may indicate binary incompatibility. Expected 96, got 88\n",
      "  from pandas._libs import algos, lib, writers as libwriters\n"
     ]
    }
   ],
   "source": [
    "import pandas\n",
    "import datetime\n",
    "import os\n",
    "import sys\n",
    "module_path = os.path.abspath(os.path.join('../data_pipeline/'))\n",
    "if module_path not in sys.path:\n",
    "    sys.path.append(module_path)\n",
    "import sqlite3"
   ]
  },
  {
   "cell_type": "code",
   "execution_count": 2,
   "metadata": {},
   "outputs": [],
   "source": [
    "ae_dbdir = \"/home/bharat/Documents/data/ss_onset_dataset/data/sqlite3/\"\n",
    "ae_db_name = \"au_al_ae.sqlite\"\n",
    "omn_table_name = \"aualae\"\n",
    "start_date = datetime.datetime(1996,1,1)\n",
    "end_date = datetime.datetime(1996,12,31)\n",
    "# set some cutoffs for AL/AE indices\n",
    "alSSCutoff = -10\n",
    "aeSSCutoff = 50\n",
    "# set some cutoffs for time\n",
    "minDelT = 5 # min\n",
    "# the continuous set of time range\n",
    "# which is considered a non-substorm\n",
    "# period. In other words, if non-SS\n",
    "# conditions are satisfied for this\n",
    "# interval of time (say 3 hours), then\n",
    "# we consider this period to be a non-ss\n",
    "# period.\n",
    "minDiffTime = 180 # min"
   ]
  },
  {
   "cell_type": "code",
   "execution_count": 3,
   "metadata": {},
   "outputs": [],
   "source": [
    "conn = sqlite3.connect(ae_dbdir + ae_db_name,\n",
    "                       detect_types = sqlite3.PARSE_DECLTYPES)\n",
    "# load data to a dataframe\n",
    "command = \"SELECT * FROM {tb} \" +\\\n",
    "                  \"WHERE datetime BETWEEN '{stm}' and '{etm}'\"\n",
    "command = command.format(tb=omn_table_name,\\\n",
    "                         stm=start_date, etm=end_date)\n",
    "aulDF = pandas.read_sql(command, conn)"
   ]
  },
  {
   "cell_type": "code",
   "execution_count": 4,
   "metadata": {},
   "outputs": [],
   "source": [
    "aulDF = aulDF[ (aulDF[\"al\"] >= alSSCutoff) &\\\n",
    "             (aulDF[\"ae\"] <= aeSSCutoff)\\\n",
    "             ].reset_index(drop=True)\n",
    "# Calculate the time diff between two consecutive timesteps\n",
    "aulDF[\"delT\"] = aulDF[\"datetime\"].diff()\n",
    "# convert the difference to minutes\n",
    "aulDF[\"delT\"] = aulDF[\"delT\"].apply(\\\n",
    "            lambda x: x.total_seconds()/60. )"
   ]
  },
  {
   "cell_type": "code",
   "execution_count": 5,
   "metadata": {},
   "outputs": [
    {
     "name": "stdout",
     "output_type": "stream",
     "text": [
      "(5007, 5) (56488, 5)\n"
     ]
    }
   ],
   "source": [
    "print aulDF[ aulDF[\"delT\"] > 1. ].shape, aulDF[ aulDF[\"delT\"] == 1. ].shape"
   ]
  },
  {
   "cell_type": "code",
   "execution_count": 6,
   "metadata": {},
   "outputs": [],
   "source": [
    "# get contiguous set of measurements where\n",
    "# there is no ss\n",
    "# here we're getting a diff on the series to get\n",
    "# the most continuous dataset\n",
    "brkInds = aulDF[ (aulDF[\"delT\"] > minDelT)\\\n",
    "               ].index.to_frame().diff().reset_index()\n",
    "brkInds.columns = [ \"inds\", \"diffs\" ]\n",
    "# now we also need index value from prev row\n",
    "# to get the range of time\n",
    "shftdRows = brkInds[\"inds\"].shift(1)\n",
    "brkInds[\"prevRowInds\"] = shftdRows"
   ]
  },
  {
   "cell_type": "code",
   "execution_count": 7,
   "metadata": {},
   "outputs": [
    {
     "name": "stdout",
     "output_type": "stream",
     "text": [
      "     inds  diffs  prevRowInds\n",
      "2     495  360.0        135.0\n",
      "16    919  202.0        717.0\n",
      "117  3138  217.0       2921.0\n",
      "123  3424  261.0       3163.0\n",
      "126  4039  599.0       3440.0\n",
      "144  4767  299.0       4468.0\n",
      "248  6647  286.0       6361.0\n",
      "252  6916  256.0       6660.0\n",
      "353  8802  506.0       8296.0\n",
      "357  9058  228.0       8830.0\n"
     ]
    }
   ],
   "source": [
    "# the continous set of time with no substorm activity \n",
    "# would be [prevRowInds:inds-1]\n",
    "print brkInds[ brkInds[\"diffs\"] > minDiffTime ].head(10)"
   ]
  },
  {
   "cell_type": "code",
   "execution_count": 10,
   "metadata": {},
   "outputs": [
    {
     "name": "stdout",
     "output_type": "stream",
     "text": [
      "1996-01-01 02:38:00 1996-01-01 08:44:00\n"
     ]
    }
   ],
   "source": [
    "for row in brkInds[ brkInds[\"diffs\"] > minDiffTime ].iterrows():\n",
    "    dd = aulDF.iloc[ int(row[1][\"prevRowInds\"]): int(row[1][\"inds\"]-1)][\"datetime\"]\n",
    "    print dd.min(), dd.max()"
   ]
  },
  {
   "cell_type": "code",
   "execution_count": null,
   "metadata": {},
   "outputs": [],
   "source": []
  }
 ],
 "metadata": {
  "kernelspec": {
   "display_name": "Python 2",
   "language": "python",
   "name": "python2"
  },
  "language_info": {
   "codemirror_mode": {
    "name": "ipython",
    "version": 2
   },
   "file_extension": ".py",
   "mimetype": "text/x-python",
   "name": "python",
   "nbconvert_exporter": "python",
   "pygments_lexer": "ipython2",
   "version": "2.7.6"
  }
 },
 "nbformat": 4,
 "nbformat_minor": 2
}
