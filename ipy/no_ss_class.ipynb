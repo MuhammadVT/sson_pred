{
 "cells": [
  {
   "cell_type": "code",
   "execution_count": 1,
   "metadata": {},
   "outputs": [],
   "source": [
    "import warnings\n",
    "warnings.filterwarnings(\"ignore\")\n",
    "import pandas\n",
    "import datetime\n",
    "import os\n",
    "import sys\n",
    "module_path = os.path.abspath(os.path.join('../data_pipeline/'))\n",
    "if module_path not in sys.path:\n",
    "    sys.path.append(module_path)\n",
    "import sqlite3\n",
    "import create_onset_data"
   ]
  },
  {
   "cell_type": "code",
   "execution_count": 2,
   "metadata": {},
   "outputs": [],
   "source": [
    "inds_dbdir = \"/home/bharat/Documents/data/ss_onset_dataset/data/sqlite3/\"\n",
    "sm_db_name = \"smu_sml_sme.sqlite\"\n",
    "sm_table_name = \"smusmlsme\""
   ]
  },
  {
   "cell_type": "code",
   "execution_count": 3,
   "metadata": {},
   "outputs": [
    {
     "name": "stdout",
     "output_type": "stream",
     "text": [
      "Splitting the data into train, validation and test\n",
      "                     bin_0  bin_1    mlat_0  mlat_1     mlt_0  mlt_1  \\\n",
      "1996-03-30 03:41:00      0      0 -1.000000    -1.0 -1.000000   -1.0   \n",
      "1996-03-30 03:42:00      1      0  0.763333    -1.0  0.998056   -1.0   \n",
      "1996-03-30 03:43:00      1      0  0.763333    -1.0  0.998056   -1.0   \n",
      "1996-03-30 03:44:00      1      0  0.763333    -1.0  0.998056   -1.0   \n",
      "1996-03-30 03:45:00      1      0  0.763333    -1.0  0.998056   -1.0   \n",
      "\n",
      "                     del_minutes data_label  \n",
      "1996-03-30 03:41:00        30.95          P  \n",
      "1996-03-30 03:42:00        29.95          P  \n",
      "1996-03-30 03:43:00        28.95          P  \n",
      "1996-03-30 03:44:00        27.95          P  \n",
      "1996-03-30 03:45:00        26.95          P  \n"
     ]
    }
   ],
   "source": [
    "dataObj = create_onset_data.OnsetData(delTCutoff=2)\n",
    "ssBinDF = dataObj.create_output_bins(\\\n",
    "                saveFile=\"../data/binned_data_extra_latlon.feather\",\\\n",
    "                aulDBdir=inds_dbdir, \\\n",
    "                 aulDBName=sm_db_name,\\\n",
    "                 aulTabName=sm_table_name)\n",
    "# print ssBinDF.head()\n",
    "# print \"-------------\"\n",
    "# print ssBinDF.shape"
   ]
  },
  {
   "cell_type": "code",
   "execution_count": 4,
   "metadata": {},
   "outputs": [
    {
     "data": {
      "text/plain": [
       "I    3374\n",
       "P    2626\n",
       "Name: data_label, dtype: int64"
      ]
     },
     "execution_count": 4,
     "metadata": {},
     "output_type": "execute_result"
    }
   ],
   "source": [
    "ssBinDF.tail(6000)[\"data_label\"].value_counts()"
   ]
  },
  {
   "cell_type": "code",
   "execution_count": 8,
   "metadata": {},
   "outputs": [
    {
     "name": "stdout",
     "output_type": "stream",
     "text": [
      "('Working through year-->', 1997)\n",
      "('Working through year-->', 1998)\n",
      "('Working through year-->', 1999)\n",
      "('Working through year-->', 2000)\n",
      "('Working through year-->', 2001)\n",
      "('Working through year-->', 2002)\n",
      "('Working through year-->', 2003)\n",
      "('Working through year-->', 2004)\n",
      "('Working through year-->', 2005)\n",
      "('Working through year-->', 2006)\n",
      "('Working through year-->', 2007)\n",
      "                     bin_0  bin_1  mlat_0  mlat_1  mlt_0  mlt_1  del_minutes  \\\n",
      "1997-01-01 00:00:00      0      0    -1.0    -1.0   -1.0   -1.0         -1.0   \n",
      "1997-01-01 00:10:00      0      0    -1.0    -1.0   -1.0   -1.0         -1.0   \n",
      "1997-01-01 00:20:00      0      0    -1.0    -1.0   -1.0   -1.0         -1.0   \n",
      "1997-01-01 00:30:00      0      0    -1.0    -1.0   -1.0   -1.0         -1.0   \n",
      "1997-01-01 00:40:00      0      0    -1.0    -1.0   -1.0   -1.0         -1.0   \n",
      "\n",
      "                    data_label  \n",
      "1997-01-01 00:00:00          S  \n",
      "1997-01-01 00:10:00          S  \n",
      "1997-01-01 00:20:00          S  \n",
      "1997-01-01 00:30:00          S  \n",
      "1997-01-01 00:40:00          S  \n",
      "Downsampling the data\n",
      "('new DF ---->', 3    16811\n",
      "2    16811\n",
      "1    16811\n",
      "0    16811\n",
      "Name: outBinary, dtype: int64)\n",
      "                     bin_0  bin_1    mlat_0    mlat_1     mlt_0     mlt_1  \\\n",
      "1997-01-07 10:40:00      1      1  0.750889  0.734333  0.005222  0.002556   \n",
      "1997-01-07 10:50:00      1      1  0.750889  0.734333  0.005222  0.002556   \n",
      "1997-01-07 16:40:00      1      1  0.761333  0.761333  0.062972  0.063778   \n",
      "1997-01-07 16:50:00      1      1  0.761333  0.761333  0.062972  0.063778   \n",
      "1997-01-07 17:10:00      1      1  0.761333  0.798333  0.063778  0.002333   \n",
      "\n",
      "                     del_minutes data_label  outBinary                date  \n",
      "1997-01-07 10:40:00         21.0          S          3 1997-01-07 10:40:00  \n",
      "1997-01-07 10:50:00         11.0          S          3 1997-01-07 10:50:00  \n",
      "1997-01-07 16:40:00         29.0          S          3 1997-01-07 16:40:00  \n",
      "1997-01-07 16:50:00         19.0          S          3 1997-01-07 16:50:00  \n",
      "1997-01-07 17:10:00         19.0          S          3 1997-01-07 17:10:00  \n",
      "-------------\n",
      "(67244, 10)\n"
     ]
    }
   ],
   "source": [
    "dataObj = create_onset_data.OnsetData(useSML=True,delTCutoff=2,\\\n",
    "                    smlDateRange=[datetime.datetime(1997,1,1),\\\n",
    "                    datetime.datetime(2007,1,1)], fillTimeRes=10)\n",
    "ssBinDF = dataObj.create_sml_bins()\n",
    "print ssBinDF.head()\n",
    "print \"-------------\"\n",
    "print ssBinDF.shape"
   ]
  },
  {
   "cell_type": "code",
   "execution_count": null,
   "metadata": {},
   "outputs": [],
   "source": []
  }
 ],
 "metadata": {
  "kernelspec": {
   "display_name": "Python 2",
   "language": "python",
   "name": "python2"
  },
  "language_info": {
   "codemirror_mode": {
    "name": "ipython",
    "version": 2
   },
   "file_extension": ".py",
   "mimetype": "text/x-python",
   "name": "python",
   "nbconvert_exporter": "python",
   "pygments_lexer": "ipython2",
   "version": "2.7.6"
  }
 },
 "nbformat": 4,
 "nbformat_minor": 2
}
