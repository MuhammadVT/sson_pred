{
 "cells": [
  {
   "cell_type": "code",
   "execution_count": null,
   "metadata": {},
   "outputs": [],
   "source": [
    "import pandas\n",
    "import datetime\n",
    "import time\n",
    "# import the dataset creation module\n",
    "import os\n",
    "import sys\n",
    "module_path = os.path.abspath(os.path.join('../data_pipeline/'))\n",
    "if module_path not in sys.path:\n",
    "    sys.path.append(module_path)\n",
    "import create_onset_data\n",
    "import omn_utils\n",
    "import batch_utils"
   ]
  },
  {
   "cell_type": "code",
   "execution_count": null,
   "metadata": {},
   "outputs": [],
   "source": [
    "# dataObj = create_onset_data.OnsetData()"
   ]
  },
  {
   "cell_type": "code",
   "execution_count": null,
   "metadata": {},
   "outputs": [],
   "source": [
    "# print len(dataObj.polarDateList), len(dataObj.imageDateList)"
   ]
  },
  {
   "cell_type": "code",
   "execution_count": null,
   "metadata": {},
   "outputs": [],
   "source": [
    "# x = time.time()\n",
    "# finDF = dataObj.create_output_bins()\n",
    "# y = time.time()\n",
    "# print y-x"
   ]
  },
  {
   "cell_type": "code",
   "execution_count": null,
   "metadata": {},
   "outputs": [],
   "source": [
    "# finDF.head()"
   ]
  },
  {
   "cell_type": "code",
   "execution_count": null,
   "metadata": {},
   "outputs": [],
   "source": [
    "# finDF = pandas.read_feather(\"../data/binned_data.feather\")\n",
    "# finDF.head()"
   ]
  },
  {
   "cell_type": "code",
   "execution_count": null,
   "metadata": {},
   "outputs": [],
   "source": [
    "omn_dbdir = \"/home/bharat/Documents/data/ss_onset_dataset/data/sqlite3/\"\n",
    "omn_db_name = \"omni_sw_imf.sqlite\"\n",
    "omn_table_name = \"imf_sw\"\n",
    "omn_train = True\n",
    "omn_norm_param_file = omn_dbdir + \"omn_mean_std.npy\"\n",
    "# start_date = finDF[\"date\"].min()\n",
    "# end_date = finDF[\"date\"].max()\n",
    "# print start_date, end_date"
   ]
  },
  {
   "cell_type": "code",
   "execution_count": null,
   "metadata": {},
   "outputs": [],
   "source": [
    "# omnObj = omn_utils.OmnData(start_date, end_date, omn_dbdir,\\\n",
    "#                            omn_db_name, omn_table_name,\\\n",
    "#                            omn_train, omn_norm_param_file)\n",
    "# omnObj.omnDF.head()"
   ]
  },
  {
   "cell_type": "code",
   "execution_count": null,
   "metadata": {},
   "outputs": [],
   "source": [
    "batchObj = batch_utils.DataUtils(omn_dbdir,\\\n",
    "                           omn_db_name, omn_table_name,\\\n",
    "                           omn_train, omn_norm_param_file)"
   ]
  },
  {
   "cell_type": "code",
   "execution_count": null,
   "metadata": {},
   "outputs": [],
   "source": [
    "b1 = batchObj.batchDict[0]\n",
    "outOn = batchObj.onset_from_batch(b1)\n",
    "outOmn = batchObj.omn_from_batch(b1)"
   ]
  },
  {
   "cell_type": "code",
   "execution_count": null,
   "metadata": {},
   "outputs": [],
   "source": [
    "print outOmn.shape"
   ]
  },
  {
   "cell_type": "code",
   "execution_count": null,
   "metadata": {},
   "outputs": [],
   "source": []
  }
 ],
 "metadata": {
  "kernelspec": {
   "display_name": "Python 2",
   "language": "python",
   "name": "python2"
  },
  "language_info": {
   "codemirror_mode": {
    "name": "ipython",
    "version": 2
   },
   "file_extension": ".py",
   "mimetype": "text/x-python",
   "name": "python",
   "nbconvert_exporter": "python",
   "pygments_lexer": "ipython2",
   "version": "2.7.3"
  }
 },
 "nbformat": 4,
 "nbformat_minor": 2
}
