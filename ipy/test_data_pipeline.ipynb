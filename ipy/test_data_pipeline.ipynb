{
 "cells": [
  {
   "cell_type": "code",
   "execution_count": 1,
   "metadata": {},
   "outputs": [
    {
     "name": "stderr",
     "output_type": "stream",
     "text": [
      "/usr/local/lib/python2.7/dist-packages/pandas/_libs/__init__.py:4: RuntimeWarning: numpy.dtype size changed, may indicate binary incompatibility. Expected 96, got 88\n",
      "  from .tslib import iNaT, NaT, Timestamp, Timedelta, OutOfBoundsDatetime\n",
      "/usr/local/lib/python2.7/dist-packages/pandas/__init__.py:26: RuntimeWarning: numpy.dtype size changed, may indicate binary incompatibility. Expected 96, got 88\n",
      "  from pandas._libs import (hashtable as _hashtable,\n",
      "/usr/local/lib/python2.7/dist-packages/pandas/core/dtypes/common.py:6: RuntimeWarning: numpy.dtype size changed, may indicate binary incompatibility. Expected 96, got 88\n",
      "  from pandas._libs import algos, lib\n",
      "/usr/local/lib/python2.7/dist-packages/pandas/core/util/hashing.py:7: RuntimeWarning: numpy.dtype size changed, may indicate binary incompatibility. Expected 96, got 88\n",
      "  from pandas._libs import hashing, tslib\n",
      "/usr/local/lib/python2.7/dist-packages/pandas/core/indexes/base.py:7: RuntimeWarning: numpy.dtype size changed, may indicate binary incompatibility. Expected 96, got 88\n",
      "  from pandas._libs import (lib, index as libindex, tslib as libts,\n",
      "/usr/local/lib/python2.7/dist-packages/pandas/tseries/offsets.py:21: RuntimeWarning: numpy.dtype size changed, may indicate binary incompatibility. Expected 96, got 88\n",
      "  import pandas._libs.tslibs.offsets as liboffsets\n",
      "/usr/local/lib/python2.7/dist-packages/pandas/core/ops.py:16: RuntimeWarning: numpy.dtype size changed, may indicate binary incompatibility. Expected 96, got 88\n",
      "  from pandas._libs import algos as libalgos, ops as libops\n",
      "/usr/local/lib/python2.7/dist-packages/pandas/core/indexes/interval.py:32: RuntimeWarning: numpy.dtype size changed, may indicate binary incompatibility. Expected 96, got 88\n",
      "  from pandas._libs.interval import (\n",
      "/usr/local/lib/python2.7/dist-packages/pandas/core/internals.py:14: RuntimeWarning: numpy.dtype size changed, may indicate binary incompatibility. Expected 96, got 88\n",
      "  from pandas._libs import internals as libinternals\n",
      "/usr/local/lib/python2.7/dist-packages/pandas/core/sparse/array.py:33: RuntimeWarning: numpy.dtype size changed, may indicate binary incompatibility. Expected 96, got 88\n",
      "  import pandas._libs.sparse as splib\n",
      "/usr/local/lib/python2.7/dist-packages/pandas/core/window.py:36: RuntimeWarning: numpy.dtype size changed, may indicate binary incompatibility. Expected 96, got 88\n",
      "  import pandas._libs.window as _window\n",
      "/usr/local/lib/python2.7/dist-packages/pandas/core/groupby/groupby.py:68: RuntimeWarning: numpy.dtype size changed, may indicate binary incompatibility. Expected 96, got 88\n",
      "  from pandas._libs import (lib, reduction,\n",
      "/usr/local/lib/python2.7/dist-packages/pandas/core/reshape/reshape.py:30: RuntimeWarning: numpy.dtype size changed, may indicate binary incompatibility. Expected 96, got 88\n",
      "  from pandas._libs import algos as _algos, reshape as _reshape\n",
      "/usr/local/lib/python2.7/dist-packages/pandas/io/parsers.py:45: RuntimeWarning: numpy.dtype size changed, may indicate binary incompatibility. Expected 96, got 88\n",
      "  import pandas._libs.parsers as parsers\n",
      "/usr/local/lib/python2.7/dist-packages/pandas/io/pytables.py:50: RuntimeWarning: numpy.dtype size changed, may indicate binary incompatibility. Expected 96, got 88\n",
      "  from pandas._libs import algos, lib, writers as libwriters\n",
      "/usr/local/lib/python2.7/dist-packages/scipy/sparse/lil.py:16: RuntimeWarning: numpy.dtype size changed, may indicate binary incompatibility. Expected 96, got 88\n",
      "  from . import _csparsetools\n",
      "/usr/local/lib/python2.7/dist-packages/scipy/sparse/csgraph/__init__.py:167: RuntimeWarning: numpy.dtype size changed, may indicate binary incompatibility. Expected 96, got 88\n",
      "  from ._shortest_path import shortest_path, floyd_warshall, dijkstra,\\\n",
      "/usr/local/lib/python2.7/dist-packages/scipy/sparse/csgraph/_validation.py:5: RuntimeWarning: numpy.dtype size changed, may indicate binary incompatibility. Expected 96, got 88\n",
      "  from ._tools import csgraph_to_dense, csgraph_from_dense,\\\n",
      "/usr/local/lib/python2.7/dist-packages/scipy/sparse/csgraph/__init__.py:169: RuntimeWarning: numpy.dtype size changed, may indicate binary incompatibility. Expected 96, got 88\n",
      "  from ._traversal import breadth_first_order, depth_first_order, \\\n",
      "/usr/local/lib/python2.7/dist-packages/scipy/sparse/csgraph/__init__.py:171: RuntimeWarning: numpy.dtype size changed, may indicate binary incompatibility. Expected 96, got 88\n",
      "  from ._min_spanning_tree import minimum_spanning_tree\n",
      "/usr/local/lib/python2.7/dist-packages/scipy/sparse/csgraph/__init__.py:172: RuntimeWarning: numpy.dtype size changed, may indicate binary incompatibility. Expected 96, got 88\n",
      "  from ._reordering import reverse_cuthill_mckee, maximum_bipartite_matching, \\\n",
      "/usr/local/lib/python2.7/dist-packages/sklearn/utils/__init__.py:10: RuntimeWarning: numpy.dtype size changed, may indicate binary incompatibility. Expected 96, got 88\n",
      "  from .murmurhash import murmurhash3_32\n",
      "/usr/local/lib/python2.7/dist-packages/scipy/linalg/basic.py:17: RuntimeWarning: numpy.dtype size changed, may indicate binary incompatibility. Expected 96, got 88\n",
      "  from ._solve_toeplitz import levinson\n",
      "/usr/local/lib/python2.7/dist-packages/scipy/linalg/__init__.py:191: RuntimeWarning: numpy.dtype size changed, may indicate binary incompatibility. Expected 96, got 88\n",
      "  from ._decomp_update import *\n",
      "/usr/local/lib/python2.7/dist-packages/scipy/special/__init__.py:640: RuntimeWarning: numpy.dtype size changed, may indicate binary incompatibility. Expected 96, got 88\n",
      "  from ._ufuncs import *\n",
      "/usr/local/lib/python2.7/dist-packages/scipy/special/_ellip_harm.py:7: RuntimeWarning: numpy.dtype size changed, may indicate binary incompatibility. Expected 96, got 88\n",
      "  from ._ellip_harm_2 import _ellipsoid, _ellipsoid_norm\n",
      "/usr/local/lib/python2.7/dist-packages/scipy/optimize/_numdiff.py:8: RuntimeWarning: numpy.dtype size changed, may indicate binary incompatibility. Expected 96, got 88\n",
      "  from ._group_columns import group_dense, group_sparse\n"
     ]
    }
   ],
   "source": [
    "import pandas\n",
    "import datetime\n",
    "import time\n",
    "# import the dataset creation module\n",
    "import os\n",
    "import sys\n",
    "module_path = os.path.abspath(os.path.join('../data_pipeline/'))\n",
    "if module_path not in sys.path:\n",
    "    sys.path.append(module_path)\n",
    "import create_onset_data\n",
    "import omn_utils\n",
    "import batch_utils"
   ]
  },
  {
   "cell_type": "code",
   "execution_count": 2,
   "metadata": {},
   "outputs": [],
   "source": [
    "# dataObj = create_onset_data.OnsetData()"
   ]
  },
  {
   "cell_type": "code",
   "execution_count": 3,
   "metadata": {},
   "outputs": [],
   "source": [
    "# print len(dataObj.polarDateList), len(dataObj.imageDateList)"
   ]
  },
  {
   "cell_type": "code",
   "execution_count": 4,
   "metadata": {},
   "outputs": [],
   "source": [
    "# x = time.time()\n",
    "# finDF = dataObj.create_output_bins()\n",
    "# y = time.time()\n",
    "# print y-x"
   ]
  },
  {
   "cell_type": "code",
   "execution_count": 5,
   "metadata": {},
   "outputs": [],
   "source": [
    "# finDF.head()"
   ]
  },
  {
   "cell_type": "code",
   "execution_count": 6,
   "metadata": {},
   "outputs": [],
   "source": [
    "# finDF = pandas.read_feather(\"../data/binned_data.feather\")\n",
    "# finDF.head()"
   ]
  },
  {
   "cell_type": "code",
   "execution_count": 7,
   "metadata": {},
   "outputs": [],
   "source": [
    "start_date=datetime.datetime(1997,1,1)\n",
    "end_date=datetime.datetime(1997,3,1)\n",
    "\n",
    "omn_dbdir = \"../data/sqlite3/\"\n",
    "omn_db_name = \"omni_sw_imf.sqlite\"\n",
    "omn_table_name = \"imf_sw\"\n",
    "omn_train = True\n",
    "omn_norm_param_file = omn_dbdir + \"omn_mean_std.npy\"\n",
    "\n",
    "sml_db_name = \"smu_sml_sme.sqlite\"\n",
    "sml_table_name = \"smusmlsme\"\n",
    "sml_norm_param_file = omn_dbdir + \"sml_mean_std.npy\""
   ]
  },
  {
   "cell_type": "code",
   "execution_count": 8,
   "metadata": {},
   "outputs": [
    {
     "name": "stdout",
     "output_type": "stream",
     "text": [
      "normalizing the IMF data ...\n",
      "mean and std values...\n",
      "(By     -0.436426\n",
      "Bz     -0.432334\n",
      "Bx      1.211350\n",
      "Vx   -411.474961\n",
      "Np      8.350599\n",
      "dtype: float64, By     3.513746\n",
      "Bz     3.128493\n",
      "Bx     3.299880\n",
      "Vx    81.025832\n",
      "Np     5.099947\n",
      "dtype: float64)\n",
      "loaded OMNI data\n",
      "normalizing the IMF data ...\n",
      "mean and std values...\n",
      "(au     67.772072\n",
      "al   -134.423500\n",
      "dtype: float64, au     61.912801\n",
      "al    175.175561\n",
      "dtype: float64)\n",
      "loaded SML data\n"
     ]
    },
    {
     "data": {
      "text/html": [
       "<div>\n",
       "<style scoped>\n",
       "    .dataframe tbody tr th:only-of-type {\n",
       "        vertical-align: middle;\n",
       "    }\n",
       "\n",
       "    .dataframe tbody tr th {\n",
       "        vertical-align: top;\n",
       "    }\n",
       "\n",
       "    .dataframe thead th {\n",
       "        text-align: right;\n",
       "    }\n",
       "</style>\n",
       "<table border=\"1\" class=\"dataframe\">\n",
       "  <thead>\n",
       "    <tr style=\"text-align: right;\">\n",
       "      <th></th>\n",
       "      <th>datetime</th>\n",
       "      <th>By</th>\n",
       "      <th>Bz</th>\n",
       "      <th>Bx</th>\n",
       "      <th>Vx</th>\n",
       "      <th>Np</th>\n",
       "      <th>au</th>\n",
       "      <th>al</th>\n",
       "    </tr>\n",
       "  </thead>\n",
       "  <tbody>\n",
       "    <tr>\n",
       "      <th>0</th>\n",
       "      <td>1997-01-01 00:00:00</td>\n",
       "      <td>NaN</td>\n",
       "      <td>NaN</td>\n",
       "      <td>NaN</td>\n",
       "      <td>NaN</td>\n",
       "      <td>NaN</td>\n",
       "      <td>-0.141684</td>\n",
       "      <td>0.539022</td>\n",
       "    </tr>\n",
       "    <tr>\n",
       "      <th>1</th>\n",
       "      <td>1997-01-01 00:01:00</td>\n",
       "      <td>NaN</td>\n",
       "      <td>NaN</td>\n",
       "      <td>NaN</td>\n",
       "      <td>NaN</td>\n",
       "      <td>NaN</td>\n",
       "      <td>-0.060926</td>\n",
       "      <td>0.550439</td>\n",
       "    </tr>\n",
       "    <tr>\n",
       "      <th>2</th>\n",
       "      <td>1997-01-01 00:02:00</td>\n",
       "      <td>NaN</td>\n",
       "      <td>NaN</td>\n",
       "      <td>NaN</td>\n",
       "      <td>NaN</td>\n",
       "      <td>NaN</td>\n",
       "      <td>-0.125533</td>\n",
       "      <td>0.510479</td>\n",
       "    </tr>\n",
       "    <tr>\n",
       "      <th>3</th>\n",
       "      <td>1997-01-01 00:03:00</td>\n",
       "      <td>NaN</td>\n",
       "      <td>NaN</td>\n",
       "      <td>NaN</td>\n",
       "      <td>NaN</td>\n",
       "      <td>NaN</td>\n",
       "      <td>0.052137</td>\n",
       "      <td>0.373474</td>\n",
       "    </tr>\n",
       "    <tr>\n",
       "      <th>4</th>\n",
       "      <td>1997-01-01 00:04:00</td>\n",
       "      <td>NaN</td>\n",
       "      <td>NaN</td>\n",
       "      <td>NaN</td>\n",
       "      <td>NaN</td>\n",
       "      <td>NaN</td>\n",
       "      <td>0.262109</td>\n",
       "      <td>0.196509</td>\n",
       "    </tr>\n",
       "  </tbody>\n",
       "</table>\n",
       "</div>"
      ],
      "text/plain": [
       "             datetime  By  Bz  Bx  Vx  Np        au        al\n",
       "0 1997-01-01 00:00:00 NaN NaN NaN NaN NaN -0.141684  0.539022\n",
       "1 1997-01-01 00:01:00 NaN NaN NaN NaN NaN -0.060926  0.550439\n",
       "2 1997-01-01 00:02:00 NaN NaN NaN NaN NaN -0.125533  0.510479\n",
       "3 1997-01-01 00:03:00 NaN NaN NaN NaN NaN  0.052137  0.373474\n",
       "4 1997-01-01 00:04:00 NaN NaN NaN NaN NaN  0.262109  0.196509"
      ]
     },
     "execution_count": 8,
     "metadata": {},
     "output_type": "execute_result"
    }
   ],
   "source": [
    "omnObj = omn_utils.OmnData(start_date, end_date, omn_dbdir,\\\n",
    "               omn_db_name, omn_table_name,\\\n",
    "               omn_train, omn_norm_param_file, sml_train=True, sml_norm_file=sml_norm_param_file, imf_normalize=True,\\\n",
    "                smlDbName=sml_db_name, sml_normalize=True, smlTabName=sml_table_name, db_time_resolution=1, \\\n",
    "                include_omn=True, omn_train_params = [ \"By\", \"Bz\", \"Bx\", \"Vx\", \"Np\" ],\\\n",
    "                include_sml=True, sml_train_params = [ \"au\", \"al\" ] )\n",
    "omnObj.omnDF.head()"
   ]
  },
  {
   "cell_type": "code",
   "execution_count": 9,
   "metadata": {},
   "outputs": [
    {
     "name": "stdout",
     "output_type": "stream",
     "text": [
      "creating onset data\n",
      "('Working through year-->', 1997)\n",
      "                     bin_0  mlat_0  mlt_0  del_minutes data_label  multi_ss\n",
      "1997-01-01 00:00:00      0    -1.0   -1.0         -1.0          S         0\n",
      "1997-01-01 00:01:00      0    -1.0   -1.0         -1.0          S         0\n",
      "1997-01-01 00:02:00      0    -1.0   -1.0         -1.0          S         0\n",
      "1997-01-01 00:03:00      0    -1.0   -1.0         -1.0          S         0\n",
      "1997-01-01 00:04:00      0    -1.0   -1.0         -1.0          S         0\n",
      "('original DF label counts---->', 0    71109\n",
      "1    13852\n",
      "Name: outBinary, dtype: int64)\n",
      "Downsampling the data into bins by UT hour\n",
      "('new DF label counts---->', 1    13852\n",
      "0    13852\n",
      "Name: outBinary, dtype: int64)\n",
      "normalizing the IMF data ...\n",
      "mean and std values...\n",
      "(By     -0.436562\n",
      "Bz     -0.432437\n",
      "Bx      1.211522\n",
      "Vx   -411.482423\n",
      "Np      8.350180\n",
      "dtype: float64, By     3.513658\n",
      "Bz     3.128406\n",
      "Bx     3.299825\n",
      "Vx    81.027990\n",
      "Np     5.100018\n",
      "dtype: float64)\n",
      "loaded OMNI data\n"
     ]
    }
   ],
   "source": [
    "batchObj = batch_utils.DataUtils(omn_dbdir,\\\n",
    "                       omn_db_name, omn_table_name,\\\n",
    "                       omn_train, omn_norm_param_file,\\\n",
    "                        onsetDataloadFile=\"../data/binned_data_extra_latlon.feather\",\\\n",
    "                        sml_train=True,useSML=True,\\\n",
    "                        sml_norm_file=sml_norm_param_file,\\\n",
    "                smlDbName=sml_db_name, sml_normalize=True, smlTabName=sml_table_name,\\\n",
    "                include_omn=True,smlDateRange=[start_date,end_date],\\\n",
    "                include_sml=False, sml_train_params = [ \"au\", \"al\" ], omn_time_delay=10)"
   ]
  },
  {
   "cell_type": "code",
   "execution_count": 10,
   "metadata": {},
   "outputs": [
    {
     "name": "stdout",
     "output_type": "stream",
     "text": [
      "batch calc---> 0.00647902488708\n",
      "outOn calc---> 0.00647902488708\n",
      "inOmn calc---> 0.0340240001678\n"
     ]
    },
    {
     "name": "stderr",
     "output_type": "stream",
     "text": [
      "/home/bharat/Documents/code/sson_pred/data_pipeline/batch_utils.py:218: SettingWithCopyWarning: \n",
      "A value is trying to be set on a copy of a slice from a DataFrame\n",
      "\n",
      "See the caveats in the documentation: http://pandas.pydata.org/pandas-docs/stable/indexing.html#indexing-view-versus-copy\n",
      "  _currOmnDF.interpolate(method='linear', limit_direction='both', inplace=True)\n"
     ]
    }
   ],
   "source": [
    "x = time.time()\n",
    "b1 = batchObj.batchDict[30]\n",
    "y = time.time()\n",
    "outOn = batchObj.onset_from_batch(b1, predList=[\"bin\"])\n",
    "z = time.time()\n",
    "inOmn = batchObj.omn_from_batch(b1)\n",
    "w = time.time()\n",
    "\n",
    "print \"batch calc--->\", z-y\n",
    "print \"outOn calc--->\", z-y\n",
    "print \"inOmn calc--->\", w-z"
   ]
  },
  {
   "cell_type": "code",
   "execution_count": 11,
   "metadata": {},
   "outputs": [
    {
     "name": "stdout",
     "output_type": "stream",
     "text": [
      "(64, 1, 1)\n",
      "(1, 121, 5)\n"
     ]
    }
   ],
   "source": [
    "print outOn.shape\n",
    "print inOmn.shape"
   ]
  },
  {
   "cell_type": "code",
   "execution_count": null,
   "metadata": {},
   "outputs": [],
   "source": []
  }
 ],
 "metadata": {
  "kernelspec": {
   "display_name": "Python 2",
   "language": "python",
   "name": "python2"
  },
  "language_info": {
   "codemirror_mode": {
    "name": "ipython",
    "version": 2
   },
   "file_extension": ".py",
   "mimetype": "text/x-python",
   "name": "python",
   "nbconvert_exporter": "python",
   "pygments_lexer": "ipython2",
   "version": "2.7.6"
  }
 },
 "nbformat": 4,
 "nbformat_minor": 2
}
