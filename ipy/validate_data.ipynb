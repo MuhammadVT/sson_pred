{
 "cells": [
  {
   "cell_type": "code",
   "execution_count": 1,
   "metadata": {},
   "outputs": [
    {
     "name": "stdout",
     "output_type": "stream",
     "text": [
      "Populating the interactive namespace from numpy and matplotlib\n"
     ]
    },
    {
     "name": "stderr",
     "output_type": "stream",
     "text": [
      "/usr/local/lib/python2.7/dist-packages/pandas/_libs/__init__.py:4: RuntimeWarning: numpy.dtype size changed, may indicate binary incompatibility. Expected 96, got 88\n",
      "  from .tslib import iNaT, NaT, Timestamp, Timedelta, OutOfBoundsDatetime\n",
      "/usr/local/lib/python2.7/dist-packages/pandas/__init__.py:26: RuntimeWarning: numpy.dtype size changed, may indicate binary incompatibility. Expected 96, got 88\n",
      "  from pandas._libs import (hashtable as _hashtable,\n",
      "/usr/local/lib/python2.7/dist-packages/pandas/core/dtypes/common.py:6: RuntimeWarning: numpy.dtype size changed, may indicate binary incompatibility. Expected 96, got 88\n",
      "  from pandas._libs import algos, lib\n",
      "/usr/local/lib/python2.7/dist-packages/pandas/core/util/hashing.py:7: RuntimeWarning: numpy.dtype size changed, may indicate binary incompatibility. Expected 96, got 88\n",
      "  from pandas._libs import hashing, tslib\n",
      "/usr/local/lib/python2.7/dist-packages/pandas/core/indexes/base.py:7: RuntimeWarning: numpy.dtype size changed, may indicate binary incompatibility. Expected 96, got 88\n",
      "  from pandas._libs import (lib, index as libindex, tslib as libts,\n",
      "/usr/local/lib/python2.7/dist-packages/pandas/tseries/offsets.py:21: RuntimeWarning: numpy.dtype size changed, may indicate binary incompatibility. Expected 96, got 88\n",
      "  import pandas._libs.tslibs.offsets as liboffsets\n",
      "/usr/local/lib/python2.7/dist-packages/pandas/core/ops.py:16: RuntimeWarning: numpy.dtype size changed, may indicate binary incompatibility. Expected 96, got 88\n",
      "  from pandas._libs import algos as libalgos, ops as libops\n",
      "/usr/local/lib/python2.7/dist-packages/pandas/core/indexes/interval.py:32: RuntimeWarning: numpy.dtype size changed, may indicate binary incompatibility. Expected 96, got 88\n",
      "  from pandas._libs.interval import (\n",
      "/usr/local/lib/python2.7/dist-packages/pandas/core/internals.py:14: RuntimeWarning: numpy.dtype size changed, may indicate binary incompatibility. Expected 96, got 88\n",
      "  from pandas._libs import internals as libinternals\n",
      "/usr/local/lib/python2.7/dist-packages/pandas/core/sparse/array.py:33: RuntimeWarning: numpy.dtype size changed, may indicate binary incompatibility. Expected 96, got 88\n",
      "  import pandas._libs.sparse as splib\n",
      "/usr/local/lib/python2.7/dist-packages/pandas/core/window.py:36: RuntimeWarning: numpy.dtype size changed, may indicate binary incompatibility. Expected 96, got 88\n",
      "  import pandas._libs.window as _window\n",
      "/usr/local/lib/python2.7/dist-packages/pandas/core/groupby/groupby.py:68: RuntimeWarning: numpy.dtype size changed, may indicate binary incompatibility. Expected 96, got 88\n",
      "  from pandas._libs import (lib, reduction,\n",
      "/usr/local/lib/python2.7/dist-packages/pandas/core/reshape/reshape.py:30: RuntimeWarning: numpy.dtype size changed, may indicate binary incompatibility. Expected 96, got 88\n",
      "  from pandas._libs import algos as _algos, reshape as _reshape\n",
      "/usr/local/lib/python2.7/dist-packages/pandas/io/parsers.py:45: RuntimeWarning: numpy.dtype size changed, may indicate binary incompatibility. Expected 96, got 88\n",
      "  import pandas._libs.parsers as parsers\n",
      "/usr/local/lib/python2.7/dist-packages/pandas/io/pytables.py:50: RuntimeWarning: numpy.dtype size changed, may indicate binary incompatibility. Expected 96, got 88\n",
      "  from pandas._libs import algos, lib, writers as libwriters\n"
     ]
    }
   ],
   "source": [
    "import pandas\n",
    "import datetime\n",
    "import matplotlib\n",
    "import matplotlib.pyplot as plt\n",
    "%pylab inline"
   ]
  },
  {
   "cell_type": "code",
   "execution_count": 2,
   "metadata": {},
   "outputs": [
    {
     "name": "stderr",
     "output_type": "stream",
     "text": [
      "/usr/local/lib/python2.7/dist-packages/h5py/__init__.py:34: RuntimeWarning: numpy.dtype size changed, may indicate binary incompatibility. Expected 96, got 88\n",
      "  from ._conv import register_converters as _register_converters\n",
      "/usr/local/lib/python2.7/dist-packages/h5py/__init__.py:34: FutureWarning: Conversion of the second argument of issubdtype from `float` to `np.floating` is deprecated. In future, it will be treated as `np.float64 == np.dtype(float).type`.\n",
      "  from ._conv import register_converters as _register_converters\n",
      "/usr/local/lib/python2.7/dist-packages/h5py/__init__.py:43: RuntimeWarning: numpy.dtype size changed, may indicate binary incompatibility. Expected 96, got 88\n",
      "  from . import h5a, h5d, h5ds, h5f, h5fd, h5g, h5r, h5s, h5t, h5p, h5z\n",
      "/usr/local/lib/python2.7/dist-packages/h5py/_hl/group.py:24: RuntimeWarning: numpy.dtype size changed, may indicate binary incompatibility. Expected 96, got 88\n",
      "  from .. import h5g, h5i, h5o, h5r, h5t, h5l, h5p\n",
      "/usr/local/lib/python2.7/dist-packages/scipy/sparse/lil.py:16: RuntimeWarning: numpy.dtype size changed, may indicate binary incompatibility. Expected 96, got 88\n",
      "  from . import _csparsetools\n",
      "/usr/local/lib/python2.7/dist-packages/scipy/sparse/csgraph/__init__.py:167: RuntimeWarning: numpy.dtype size changed, may indicate binary incompatibility. Expected 96, got 88\n",
      "  from ._shortest_path import shortest_path, floyd_warshall, dijkstra,\\\n",
      "/usr/local/lib/python2.7/dist-packages/scipy/sparse/csgraph/_validation.py:5: RuntimeWarning: numpy.dtype size changed, may indicate binary incompatibility. Expected 96, got 88\n",
      "  from ._tools import csgraph_to_dense, csgraph_from_dense,\\\n",
      "/usr/local/lib/python2.7/dist-packages/scipy/sparse/csgraph/__init__.py:169: RuntimeWarning: numpy.dtype size changed, may indicate binary incompatibility. Expected 96, got 88\n",
      "  from ._traversal import breadth_first_order, depth_first_order, \\\n",
      "/usr/local/lib/python2.7/dist-packages/scipy/sparse/csgraph/__init__.py:171: RuntimeWarning: numpy.dtype size changed, may indicate binary incompatibility. Expected 96, got 88\n",
      "  from ._min_spanning_tree import minimum_spanning_tree\n",
      "/usr/local/lib/python2.7/dist-packages/scipy/sparse/csgraph/__init__.py:172: RuntimeWarning: numpy.dtype size changed, may indicate binary incompatibility. Expected 96, got 88\n",
      "  from ._reordering import reverse_cuthill_mckee, maximum_bipartite_matching, \\\n",
      "/usr/local/lib/python2.7/dist-packages/scipy/linalg/basic.py:17: RuntimeWarning: numpy.dtype size changed, may indicate binary incompatibility. Expected 96, got 88\n",
      "  from ._solve_toeplitz import levinson\n",
      "/usr/local/lib/python2.7/dist-packages/scipy/linalg/__init__.py:191: RuntimeWarning: numpy.dtype size changed, may indicate binary incompatibility. Expected 96, got 88\n",
      "  from ._decomp_update import *\n",
      "/usr/local/lib/python2.7/dist-packages/scipy/special/__init__.py:640: RuntimeWarning: numpy.dtype size changed, may indicate binary incompatibility. Expected 96, got 88\n",
      "  from ._ufuncs import *\n",
      "/usr/local/lib/python2.7/dist-packages/scipy/special/_ellip_harm.py:7: RuntimeWarning: numpy.dtype size changed, may indicate binary incompatibility. Expected 96, got 88\n",
      "  from ._ellip_harm_2 import _ellipsoid, _ellipsoid_norm\n",
      "/usr/local/lib/python2.7/dist-packages/scipy/optimize/_numdiff.py:8: RuntimeWarning: numpy.dtype size changed, may indicate binary incompatibility. Expected 96, got 88\n",
      "  from ._group_columns import group_dense, group_sparse\n",
      "/usr/local/lib/python2.7/dist-packages/scipy/interpolate/_bsplines.py:9: RuntimeWarning: numpy.dtype size changed, may indicate binary incompatibility. Expected 96, got 88\n",
      "  from . import _bspl\n",
      "/usr/local/lib/python2.7/dist-packages/scipy/spatial/__init__.py:94: RuntimeWarning: numpy.dtype size changed, may indicate binary incompatibility. Expected 96, got 88\n",
      "  from .ckdtree import *\n",
      "/usr/local/lib/python2.7/dist-packages/scipy/spatial/__init__.py:95: RuntimeWarning: numpy.dtype size changed, may indicate binary incompatibility. Expected 96, got 88\n",
      "  from .qhull import *\n",
      "/usr/local/lib/python2.7/dist-packages/scipy/spatial/_spherical_voronoi.py:18: RuntimeWarning: numpy.dtype size changed, may indicate binary incompatibility. Expected 96, got 88\n",
      "  from . import _voronoi\n",
      "/usr/local/lib/python2.7/dist-packages/scipy/spatial/distance.py:121: RuntimeWarning: numpy.dtype size changed, may indicate binary incompatibility. Expected 96, got 88\n",
      "  from . import _hausdorff\n",
      "/usr/local/lib/python2.7/dist-packages/scipy/ndimage/measurements.py:36: RuntimeWarning: numpy.dtype size changed, may indicate binary incompatibility. Expected 96, got 88\n",
      "  from . import _ni_label\n",
      "/usr/local/lib/python2.7/dist-packages/pandas/io/feather_format.py:112: FutureWarning: `nthreads` argument is deprecated, pass `use_threads` instead\n",
      "  return feather.read_dataframe(path, nthreads=nthreads)\n"
     ]
    },
    {
     "data": {
      "text/html": [
       "<div>\n",
       "<style scoped>\n",
       "    .dataframe tbody tr th:only-of-type {\n",
       "        vertical-align: middle;\n",
       "    }\n",
       "\n",
       "    .dataframe tbody tr th {\n",
       "        vertical-align: top;\n",
       "    }\n",
       "\n",
       "    .dataframe thead th {\n",
       "        text-align: right;\n",
       "    }\n",
       "</style>\n",
       "<table border=\"1\" class=\"dataframe\">\n",
       "  <thead>\n",
       "    <tr style=\"text-align: right;\">\n",
       "      <th></th>\n",
       "      <th>date</th>\n",
       "      <th>mlat</th>\n",
       "      <th>mlt</th>\n",
       "      <th>glat</th>\n",
       "      <th>glon</th>\n",
       "    </tr>\n",
       "  </thead>\n",
       "  <tbody>\n",
       "    <tr>\n",
       "      <th>0</th>\n",
       "      <td>1996-03-30 04:11:57</td>\n",
       "      <td>68.7</td>\n",
       "      <td>359.3</td>\n",
       "      <td>58.6</td>\n",
       "      <td>287.9</td>\n",
       "    </tr>\n",
       "    <tr>\n",
       "      <th>1</th>\n",
       "      <td>1996-03-30 05:18:48</td>\n",
       "      <td>68.5</td>\n",
       "      <td>353.9</td>\n",
       "      <td>57.6</td>\n",
       "      <td>274.4</td>\n",
       "    </tr>\n",
       "    <tr>\n",
       "      <th>2</th>\n",
       "      <td>1996-03-30 06:52:02</td>\n",
       "      <td>69.5</td>\n",
       "      <td>336.0</td>\n",
       "      <td>61.5</td>\n",
       "      <td>249.1</td>\n",
       "    </tr>\n",
       "    <tr>\n",
       "      <th>3</th>\n",
       "      <td>1996-03-30 22:42:05</td>\n",
       "      <td>65.9</td>\n",
       "      <td>353.4</td>\n",
       "      <td>67.0</td>\n",
       "      <td>355.1</td>\n",
       "    </tr>\n",
       "    <tr>\n",
       "      <th>4</th>\n",
       "      <td>1996-03-31 00:25:54</td>\n",
       "      <td>66.5</td>\n",
       "      <td>346.9</td>\n",
       "      <td>62.4</td>\n",
       "      <td>321.4</td>\n",
       "    </tr>\n",
       "  </tbody>\n",
       "</table>\n",
       "</div>"
      ],
      "text/plain": [
       "                 date  mlat    mlt  glat   glon\n",
       "0 1996-03-30 04:11:57  68.7  359.3  58.6  287.9\n",
       "1 1996-03-30 05:18:48  68.5  353.9  57.6  274.4\n",
       "2 1996-03-30 06:52:02  69.5  336.0  61.5  249.1\n",
       "3 1996-03-30 22:42:05  65.9  353.4  67.0  355.1\n",
       "4 1996-03-31 00:25:54  66.5  346.9  62.4  321.4"
      ]
     },
     "execution_count": 2,
     "metadata": {},
     "output_type": "execute_result"
    }
   ],
   "source": [
    "# read the data from polar DF\n",
    "polarDF = pandas.read_feather(\"../data/polar_data.feather\")\n",
    "polarDF.head()"
   ]
  },
  {
   "cell_type": "code",
   "execution_count": 3,
   "metadata": {},
   "outputs": [
    {
     "data": {
      "text/html": [
       "<div>\n",
       "<style scoped>\n",
       "    .dataframe tbody tr th:only-of-type {\n",
       "        vertical-align: middle;\n",
       "    }\n",
       "\n",
       "    .dataframe tbody tr th {\n",
       "        vertical-align: top;\n",
       "    }\n",
       "\n",
       "    .dataframe thead th {\n",
       "        text-align: right;\n",
       "    }\n",
       "</style>\n",
       "<table border=\"1\" class=\"dataframe\">\n",
       "  <thead>\n",
       "    <tr style=\"text-align: right;\">\n",
       "      <th></th>\n",
       "      <th>date</th>\n",
       "      <th>glat</th>\n",
       "      <th>glon</th>\n",
       "      <th>mlat</th>\n",
       "      <th>mlon</th>\n",
       "      <th>mlt</th>\n",
       "    </tr>\n",
       "  </thead>\n",
       "  <tbody>\n",
       "    <tr>\n",
       "      <th>0</th>\n",
       "      <td>2000-05-16 17:47:17</td>\n",
       "      <td>69.04</td>\n",
       "      <td>84.96</td>\n",
       "      <td>63.97</td>\n",
       "      <td>158.94</td>\n",
       "      <td>23.76</td>\n",
       "    </tr>\n",
       "    <tr>\n",
       "      <th>1</th>\n",
       "      <td>2000-05-18 09:55:40</td>\n",
       "      <td>67.46</td>\n",
       "      <td>191.68</td>\n",
       "      <td>64.23</td>\n",
       "      <td>245.74</td>\n",
       "      <td>21.51</td>\n",
       "    </tr>\n",
       "    <tr>\n",
       "      <th>2</th>\n",
       "      <td>2000-05-19 13:40:22</td>\n",
       "      <td>71.79</td>\n",
       "      <td>166.96</td>\n",
       "      <td>66.53</td>\n",
       "      <td>225.19</td>\n",
       "      <td>23.66</td>\n",
       "    </tr>\n",
       "    <tr>\n",
       "      <th>3</th>\n",
       "      <td>2000-05-20 02:49:06</td>\n",
       "      <td>59.07</td>\n",
       "      <td>294.52</td>\n",
       "      <td>68.02</td>\n",
       "      <td>17.79</td>\n",
       "      <td>23.31</td>\n",
       "    </tr>\n",
       "    <tr>\n",
       "      <th>4</th>\n",
       "      <td>2000-05-20 04:43:06</td>\n",
       "      <td>56.13</td>\n",
       "      <td>269.26</td>\n",
       "      <td>66.66</td>\n",
       "      <td>337.70</td>\n",
       "      <td>22.51</td>\n",
       "    </tr>\n",
       "  </tbody>\n",
       "</table>\n",
       "</div>"
      ],
      "text/plain": [
       "                 date   glat    glon   mlat    mlon    mlt\n",
       "0 2000-05-16 17:47:17  69.04   84.96  63.97  158.94  23.76\n",
       "1 2000-05-18 09:55:40  67.46  191.68  64.23  245.74  21.51\n",
       "2 2000-05-19 13:40:22  71.79  166.96  66.53  225.19  23.66\n",
       "3 2000-05-20 02:49:06  59.07  294.52  68.02   17.79  23.31\n",
       "4 2000-05-20 04:43:06  56.13  269.26  66.66  337.70  22.51"
      ]
     },
     "execution_count": 3,
     "metadata": {},
     "output_type": "execute_result"
    }
   ],
   "source": [
    "# read data from IMAGE FUV dataset\n",
    "imageDF = pandas.read_feather(\"../data/image_data.feather\")\n",
    "imageDF.head()"
   ]
  },
  {
   "cell_type": "code",
   "execution_count": 4,
   "metadata": {},
   "outputs": [],
   "source": [
    "# Calculate the time diff between two consecutive SS\n",
    "# onsets in each of the DFs\n",
    "polarDelTime = polarDF[\"date\"].diff()\n",
    "imageDelTime = imageDF[\"date\"].diff()"
   ]
  },
  {
   "cell_type": "code",
   "execution_count": 5,
   "metadata": {},
   "outputs": [],
   "source": [
    "# convert the difference to hours\n",
    "polarDelTime = polarDelTime.apply(\\\n",
    "                lambda x: x.total_seconds()/3600. )\n",
    "imageDelTime = imageDelTime.apply(\\\n",
    "                lambda x: x.total_seconds()/3600. )"
   ]
  },
  {
   "cell_type": "code",
   "execution_count": 6,
   "metadata": {},
   "outputs": [
    {
     "data": {
      "image/png": "[encoded data removed]",
      "text/plain": [
       "<matplotlib.figure.Figure at 0x7f47e7585950>"
      ]
     },
     "metadata": {},
     "output_type": "display_data"
    }
   ],
   "source": [
    "plt.style.use(\"fivethirtyeight\")\n",
    "f = plt.figure(figsize=(12, 8))\n",
    "\n",
    "ax1 = f.add_subplot(1,2,1)\n",
    "ax2 = f.add_subplot(1,2,2)\n",
    "\n",
    "ax1.hist(polarDelTime.values[1:], bins=[0,1,2,5,10,24])\n",
    "ax2.hist(imageDelTime.values[1:], bins=[0,1,2,5,10,24])\n",
    "\n",
    "ax1.set_xlim(0,24)\n",
    "ax1.set_title(\"Polar dataset\")\n",
    "ax1.set_xlabel(\"Hours\")\n",
    "\n",
    "ax2.set_xlim(0,24)\n",
    "ax2.set_title(\"IMAGE dataset\")\n",
    "ax2.set_xlabel(\"Hours\")\n",
    "\n",
    "f.savefig( \"../plots/delT-hist.pdf\",bbox_inches='tight' )"
   ]
  },
  {
   "cell_type": "code",
   "execution_count": 7,
   "metadata": {},
   "outputs": [
    {
     "data": {
      "image/png": "[encoded data removed]",
      "text/plain": [
       "<matplotlib.figure.Figure at 0x7f47e7585450>"
      ]
     },
     "metadata": {},
     "output_type": "display_data"
    }
   ],
   "source": [
    "plt.style.use(\"fivethirtyeight\")\n",
    "f = plt.figure(figsize=(12, 8))\n",
    "\n",
    "ax1 = f.add_subplot(1,2,1)\n",
    "ax2 = f.add_subplot(1,2,2)\n",
    "\n",
    "bins = [0,10./60,20./60,30./60,40./60, 50./60,1,5]\n",
    "\n",
    "ax1.hist(polarDelTime.values[1:], bins=bins)\n",
    "ax2.hist(imageDelTime.values[1:], bins=bins)\n",
    "\n",
    "ax1.set_xlim(0,5)\n",
    "ax1.set_title(\"Polar dataset\")\n",
    "ax1.set_xlabel(\"Hours\")\n",
    "\n",
    "ax2.set_xlim(0,5)\n",
    "ax2.set_title(\"IMAGE dataset\")\n",
    "ax2.set_xlabel(\"Hours\")\n",
    "\n",
    "f.savefig( \"../plots/delT-hist-min.pdf\",bbox_inches='tight' )"
   ]
  },
  {
   "cell_type": "code",
   "execution_count": 8,
   "metadata": {},
   "outputs": [],
   "source": [
    "polarDF[\"delT\"] = polarDelTime\n",
    "imageDF[\"delT\"] = imageDelTime"
   ]
  },
  {
   "cell_type": "code",
   "execution_count": 9,
   "metadata": {},
   "outputs": [
    {
     "data": {
      "text/html": [
       "<div>\n",
       "<style scoped>\n",
       "    .dataframe tbody tr th:only-of-type {\n",
       "        vertical-align: middle;\n",
       "    }\n",
       "\n",
       "    .dataframe tbody tr th {\n",
       "        vertical-align: top;\n",
       "    }\n",
       "\n",
       "    .dataframe thead th {\n",
       "        text-align: right;\n",
       "    }\n",
       "</style>\n",
       "<table border=\"1\" class=\"dataframe\">\n",
       "  <thead>\n",
       "    <tr style=\"text-align: right;\">\n",
       "      <th></th>\n",
       "      <th>date</th>\n",
       "      <th>mlat</th>\n",
       "      <th>mlt</th>\n",
       "      <th>glat</th>\n",
       "      <th>glon</th>\n",
       "      <th>delT</th>\n",
       "    </tr>\n",
       "  </thead>\n",
       "  <tbody>\n",
       "    <tr>\n",
       "      <th>0</th>\n",
       "      <td>1996-03-30 04:11:57</td>\n",
       "      <td>68.7</td>\n",
       "      <td>359.3</td>\n",
       "      <td>58.6</td>\n",
       "      <td>287.9</td>\n",
       "      <td>NaN</td>\n",
       "    </tr>\n",
       "    <tr>\n",
       "      <th>1</th>\n",
       "      <td>1996-03-30 05:18:48</td>\n",
       "      <td>68.5</td>\n",
       "      <td>353.9</td>\n",
       "      <td>57.6</td>\n",
       "      <td>274.4</td>\n",
       "      <td>1.114167</td>\n",
       "    </tr>\n",
       "    <tr>\n",
       "      <th>2</th>\n",
       "      <td>1996-03-30 06:52:02</td>\n",
       "      <td>69.5</td>\n",
       "      <td>336.0</td>\n",
       "      <td>61.5</td>\n",
       "      <td>249.1</td>\n",
       "      <td>1.553889</td>\n",
       "    </tr>\n",
       "    <tr>\n",
       "      <th>3</th>\n",
       "      <td>1996-03-30 22:42:05</td>\n",
       "      <td>65.9</td>\n",
       "      <td>353.4</td>\n",
       "      <td>67.0</td>\n",
       "      <td>355.1</td>\n",
       "      <td>15.834167</td>\n",
       "    </tr>\n",
       "    <tr>\n",
       "      <th>4</th>\n",
       "      <td>1996-03-31 00:25:54</td>\n",
       "      <td>66.5</td>\n",
       "      <td>346.9</td>\n",
       "      <td>62.4</td>\n",
       "      <td>321.4</td>\n",
       "      <td>1.730278</td>\n",
       "    </tr>\n",
       "  </tbody>\n",
       "</table>\n",
       "</div>"
      ],
      "text/plain": [
       "                 date  mlat    mlt  glat   glon       delT\n",
       "0 1996-03-30 04:11:57  68.7  359.3  58.6  287.9        NaN\n",
       "1 1996-03-30 05:18:48  68.5  353.9  57.6  274.4   1.114167\n",
       "2 1996-03-30 06:52:02  69.5  336.0  61.5  249.1   1.553889\n",
       "3 1996-03-30 22:42:05  65.9  353.4  67.0  355.1  15.834167\n",
       "4 1996-03-31 00:25:54  66.5  346.9  62.4  321.4   1.730278"
      ]
     },
     "execution_count": 9,
     "metadata": {},
     "output_type": "execute_result"
    }
   ],
   "source": [
    "polarDF.head()"
   ]
  },
  {
   "cell_type": "code",
   "execution_count": 10,
   "metadata": {},
   "outputs": [
    {
     "data": {
      "text/html": [
       "<div>\n",
       "<style scoped>\n",
       "    .dataframe tbody tr th:only-of-type {\n",
       "        vertical-align: middle;\n",
       "    }\n",
       "\n",
       "    .dataframe tbody tr th {\n",
       "        vertical-align: top;\n",
       "    }\n",
       "\n",
       "    .dataframe thead th {\n",
       "        text-align: right;\n",
       "    }\n",
       "</style>\n",
       "<table border=\"1\" class=\"dataframe\">\n",
       "  <thead>\n",
       "    <tr style=\"text-align: right;\">\n",
       "      <th></th>\n",
       "      <th>date</th>\n",
       "      <th>glat</th>\n",
       "      <th>glon</th>\n",
       "      <th>mlat</th>\n",
       "      <th>mlon</th>\n",
       "      <th>mlt</th>\n",
       "      <th>delT</th>\n",
       "    </tr>\n",
       "  </thead>\n",
       "  <tbody>\n",
       "    <tr>\n",
       "      <th>0</th>\n",
       "      <td>2000-05-16 17:47:17</td>\n",
       "      <td>69.04</td>\n",
       "      <td>84.96</td>\n",
       "      <td>63.97</td>\n",
       "      <td>158.94</td>\n",
       "      <td>23.76</td>\n",
       "      <td>NaN</td>\n",
       "    </tr>\n",
       "    <tr>\n",
       "      <th>1</th>\n",
       "      <td>2000-05-18 09:55:40</td>\n",
       "      <td>67.46</td>\n",
       "      <td>191.68</td>\n",
       "      <td>64.23</td>\n",
       "      <td>245.74</td>\n",
       "      <td>21.51</td>\n",
       "      <td>40.139722</td>\n",
       "    </tr>\n",
       "    <tr>\n",
       "      <th>2</th>\n",
       "      <td>2000-05-19 13:40:22</td>\n",
       "      <td>71.79</td>\n",
       "      <td>166.96</td>\n",
       "      <td>66.53</td>\n",
       "      <td>225.19</td>\n",
       "      <td>23.66</td>\n",
       "      <td>27.745000</td>\n",
       "    </tr>\n",
       "    <tr>\n",
       "      <th>3</th>\n",
       "      <td>2000-05-20 02:49:06</td>\n",
       "      <td>59.07</td>\n",
       "      <td>294.52</td>\n",
       "      <td>68.02</td>\n",
       "      <td>17.79</td>\n",
       "      <td>23.31</td>\n",
       "      <td>13.145556</td>\n",
       "    </tr>\n",
       "    <tr>\n",
       "      <th>4</th>\n",
       "      <td>2000-05-20 04:43:06</td>\n",
       "      <td>56.13</td>\n",
       "      <td>269.26</td>\n",
       "      <td>66.66</td>\n",
       "      <td>337.70</td>\n",
       "      <td>22.51</td>\n",
       "      <td>1.900000</td>\n",
       "    </tr>\n",
       "  </tbody>\n",
       "</table>\n",
       "</div>"
      ],
      "text/plain": [
       "                 date   glat    glon   mlat    mlon    mlt       delT\n",
       "0 2000-05-16 17:47:17  69.04   84.96  63.97  158.94  23.76        NaN\n",
       "1 2000-05-18 09:55:40  67.46  191.68  64.23  245.74  21.51  40.139722\n",
       "2 2000-05-19 13:40:22  71.79  166.96  66.53  225.19  23.66  27.745000\n",
       "3 2000-05-20 02:49:06  59.07  294.52  68.02   17.79  23.31  13.145556\n",
       "4 2000-05-20 04:43:06  56.13  269.26  66.66  337.70  22.51   1.900000"
      ]
     },
     "execution_count": 10,
     "metadata": {},
     "output_type": "execute_result"
    }
   ],
   "source": [
    "imageDF.head()"
   ]
  },
  {
   "cell_type": "code",
   "execution_count": 11,
   "metadata": {},
   "outputs": [],
   "source": [
    "dateList = []\n",
    "for row in polarDF.iterrows():\n",
    "    if row[1][\"delT\"] <= 2:\n",
    "        currIndex = row[0]\n",
    "        # get start time\n",
    "        startTime = datetime.datetime( polarDF.iloc[currIndex-1][\"date\"].year,\\\n",
    "                                     polarDF.iloc[currIndex-1][\"date\"].month,\\\n",
    "                                     polarDF.iloc[currIndex-1][\"date\"].day,\\\n",
    "                                     polarDF.iloc[currIndex-1][\"date\"].hour,\\\n",
    "                                     polarDF.iloc[currIndex-1][\"date\"].minute)\n",
    "        # get end time\n",
    "        endTime = datetime.datetime( row[1][\"date\"].year,\\\n",
    "                                     row[1][\"date\"].month,\\\n",
    "                                     row[1][\"date\"].day,\\\n",
    "                                     row[1][\"date\"].hour,\\\n",
    "                                     row[1][\"date\"].minute)\n",
    "        iterTime = startTime\n",
    "        while iterTime <= endTime:\n",
    "            dateList.append(iterTime)\n",
    "            iterTime += datetime.timedelta(seconds=1*60)\n",
    "# there will be some repeat values, discard them\n",
    "dateList = sorted(list(set(dateList)))"
   ]
  },
  {
   "cell_type": "code",
   "execution_count": 12,
   "metadata": {},
   "outputs": [
    {
     "data": {
      "text/html": [
       "<div>\n",
       "<style scoped>\n",
       "    .dataframe tbody tr th:only-of-type {\n",
       "        vertical-align: middle;\n",
       "    }\n",
       "\n",
       "    .dataframe tbody tr th {\n",
       "        vertical-align: top;\n",
       "    }\n",
       "\n",
       "    .dataframe thead th {\n",
       "        text-align: right;\n",
       "    }\n",
       "</style>\n",
       "<table border=\"1\" class=\"dataframe\">\n",
       "  <thead>\n",
       "    <tr style=\"text-align: right;\">\n",
       "      <th></th>\n",
       "      <th>date</th>\n",
       "      <th>mlat</th>\n",
       "      <th>mlt</th>\n",
       "      <th>glat</th>\n",
       "      <th>glon</th>\n",
       "      <th>delT</th>\n",
       "    </tr>\n",
       "  </thead>\n",
       "  <tbody>\n",
       "    <tr>\n",
       "      <th>0</th>\n",
       "      <td>1996-03-30 04:11:57</td>\n",
       "      <td>68.7</td>\n",
       "      <td>359.3</td>\n",
       "      <td>58.6</td>\n",
       "      <td>287.9</td>\n",
       "      <td>NaN</td>\n",
       "    </tr>\n",
       "    <tr>\n",
       "      <th>1</th>\n",
       "      <td>1996-03-30 05:18:48</td>\n",
       "      <td>68.5</td>\n",
       "      <td>353.9</td>\n",
       "      <td>57.6</td>\n",
       "      <td>274.4</td>\n",
       "      <td>1.114167</td>\n",
       "    </tr>\n",
       "    <tr>\n",
       "      <th>2</th>\n",
       "      <td>1996-03-30 06:52:02</td>\n",
       "      <td>69.5</td>\n",
       "      <td>336.0</td>\n",
       "      <td>61.5</td>\n",
       "      <td>249.1</td>\n",
       "      <td>1.553889</td>\n",
       "    </tr>\n",
       "    <tr>\n",
       "      <th>3</th>\n",
       "      <td>1996-03-30 22:42:05</td>\n",
       "      <td>65.9</td>\n",
       "      <td>353.4</td>\n",
       "      <td>67.0</td>\n",
       "      <td>355.1</td>\n",
       "      <td>15.834167</td>\n",
       "    </tr>\n",
       "    <tr>\n",
       "      <th>4</th>\n",
       "      <td>1996-03-31 00:25:54</td>\n",
       "      <td>66.5</td>\n",
       "      <td>346.9</td>\n",
       "      <td>62.4</td>\n",
       "      <td>321.4</td>\n",
       "      <td>1.730278</td>\n",
       "    </tr>\n",
       "  </tbody>\n",
       "</table>\n",
       "</div>"
      ],
      "text/plain": [
       "                 date  mlat    mlt  glat   glon       delT\n",
       "0 1996-03-30 04:11:57  68.7  359.3  58.6  287.9        NaN\n",
       "1 1996-03-30 05:18:48  68.5  353.9  57.6  274.4   1.114167\n",
       "2 1996-03-30 06:52:02  69.5  336.0  61.5  249.1   1.553889\n",
       "3 1996-03-30 22:42:05  65.9  353.4  67.0  355.1  15.834167\n",
       "4 1996-03-31 00:25:54  66.5  346.9  62.4  321.4   1.730278"
      ]
     },
     "execution_count": 12,
     "metadata": {},
     "output_type": "execute_result"
    }
   ],
   "source": [
    "polarDF.head()"
   ]
  },
  {
   "cell_type": "code",
   "execution_count": 13,
   "metadata": {},
   "outputs": [],
   "source": [
    "polarDF = polarDF.set_index(polarDF[\"date\"])"
   ]
  },
  {
   "cell_type": "code",
   "execution_count": 14,
   "metadata": {},
   "outputs": [
    {
     "data": {
      "text/html": [
       "<div>\n",
       "<style scoped>\n",
       "    .dataframe tbody tr th:only-of-type {\n",
       "        vertical-align: middle;\n",
       "    }\n",
       "\n",
       "    .dataframe tbody tr th {\n",
       "        vertical-align: top;\n",
       "    }\n",
       "\n",
       "    .dataframe thead th {\n",
       "        text-align: right;\n",
       "    }\n",
       "</style>\n",
       "<table border=\"1\" class=\"dataframe\">\n",
       "  <thead>\n",
       "    <tr style=\"text-align: right;\">\n",
       "      <th></th>\n",
       "      <th>date</th>\n",
       "      <th>mlat</th>\n",
       "      <th>mlt</th>\n",
       "      <th>glat</th>\n",
       "      <th>glon</th>\n",
       "      <th>delT</th>\n",
       "    </tr>\n",
       "    <tr>\n",
       "      <th>date</th>\n",
       "      <th></th>\n",
       "      <th></th>\n",
       "      <th></th>\n",
       "      <th></th>\n",
       "      <th></th>\n",
       "      <th></th>\n",
       "    </tr>\n",
       "  </thead>\n",
       "  <tbody>\n",
       "    <tr>\n",
       "      <th>1996-03-30 04:11:57</th>\n",
       "      <td>1996-03-30 04:11:57</td>\n",
       "      <td>68.7</td>\n",
       "      <td>359.3</td>\n",
       "      <td>58.6</td>\n",
       "      <td>287.9</td>\n",
       "      <td>NaN</td>\n",
       "    </tr>\n",
       "    <tr>\n",
       "      <th>1996-03-30 05:18:48</th>\n",
       "      <td>1996-03-30 05:18:48</td>\n",
       "      <td>68.5</td>\n",
       "      <td>353.9</td>\n",
       "      <td>57.6</td>\n",
       "      <td>274.4</td>\n",
       "      <td>1.114167</td>\n",
       "    </tr>\n",
       "    <tr>\n",
       "      <th>1996-03-30 06:52:02</th>\n",
       "      <td>1996-03-30 06:52:02</td>\n",
       "      <td>69.5</td>\n",
       "      <td>336.0</td>\n",
       "      <td>61.5</td>\n",
       "      <td>249.1</td>\n",
       "      <td>1.553889</td>\n",
       "    </tr>\n",
       "    <tr>\n",
       "      <th>1996-03-30 22:42:05</th>\n",
       "      <td>1996-03-30 22:42:05</td>\n",
       "      <td>65.9</td>\n",
       "      <td>353.4</td>\n",
       "      <td>67.0</td>\n",
       "      <td>355.1</td>\n",
       "      <td>15.834167</td>\n",
       "    </tr>\n",
       "    <tr>\n",
       "      <th>1996-03-31 00:25:54</th>\n",
       "      <td>1996-03-31 00:25:54</td>\n",
       "      <td>66.5</td>\n",
       "      <td>346.9</td>\n",
       "      <td>62.4</td>\n",
       "      <td>321.4</td>\n",
       "      <td>1.730278</td>\n",
       "    </tr>\n",
       "  </tbody>\n",
       "</table>\n",
       "</div>"
      ],
      "text/plain": [
       "                                   date  mlat    mlt  glat   glon       delT\n",
       "date                                                                        \n",
       "1996-03-30 04:11:57 1996-03-30 04:11:57  68.7  359.3  58.6  287.9        NaN\n",
       "1996-03-30 05:18:48 1996-03-30 05:18:48  68.5  353.9  57.6  274.4   1.114167\n",
       "1996-03-30 06:52:02 1996-03-30 06:52:02  69.5  336.0  61.5  249.1   1.553889\n",
       "1996-03-30 22:42:05 1996-03-30 22:42:05  65.9  353.4  67.0  355.1  15.834167\n",
       "1996-03-31 00:25:54 1996-03-31 00:25:54  66.5  346.9  62.4  321.4   1.730278"
      ]
     },
     "execution_count": 14,
     "metadata": {},
     "output_type": "execute_result"
    }
   ],
   "source": [
    "polarDF.head()"
   ]
  },
  {
   "cell_type": "code",
   "execution_count": 15,
   "metadata": {},
   "outputs": [
    {
     "name": "stdout",
     "output_type": "stream",
     "text": [
      "1996-03-30 04:11:00 1996-03-30 05:41:00\n"
     ]
    }
   ],
   "source": [
    "xx = dateList[0]\n",
    "sTime = xx.strftime(\"%Y-%m-%d %H:%M:%S\")\n",
    "eTime = (xx+datetime.timedelta(minutes=90)).strftime(\"%Y-%m-%d %H:%M:%S\")\n",
    "print sTime, eTime\n",
    "xList = polarDF.loc[ sTime : eTime ].index.tolist()"
   ]
  },
  {
   "cell_type": "code",
   "execution_count": 16,
   "metadata": {},
   "outputs": [
    {
     "name": "stdout",
     "output_type": "stream",
     "text": [
      "[0.95, 67.8]\n"
     ]
    }
   ],
   "source": [
    "delTList = sorted([ (aa - xx).total_seconds()/60. for aa in xList ])\n",
    "print delTList"
   ]
  },
  {
   "cell_type": "code",
   "execution_count": 17,
   "metadata": {
    "scrolled": true
   },
   "outputs": [
    {
     "name": "stdout",
     "output_type": "stream",
     "text": [
      "0.95 0.0316666666667 1 30\n",
      "0.95 0.0316666666667 31 60\n",
      "0.95 0.0316666666667 61 90\n",
      "67.8 2.26 1 30\n",
      "67.8 2.26 31 60\n",
      "67.8 2.26 61 90\n"
     ]
    }
   ],
   "source": [
    "for s in delTList:\n",
    "    for _i in range(3):\n",
    "        print s, s/30, (_i*30) + 1, (_i+1)*30"
   ]
  },
  {
   "cell_type": "code",
   "execution_count": 18,
   "metadata": {},
   "outputs": [
    {
     "name": "stdout",
     "output_type": "stream",
     "text": [
      "                                   date  mlat    mlt  glat   glon       delT\n",
      "date                                                                        \n",
      "1996-05-02 01:33:42 1996-05-02 01:33:42  65.0  347.7  58.2  307.7   7.421111\n",
      "1996-05-02 01:55:20 1996-05-02 01:55:20  66.0  338.4  57.1  297.2   0.360556\n",
      "1996-05-02 02:27:41 1996-05-02 02:27:41  66.4  345.7  57.4  296.3   0.539167\n",
      "1996-05-02 03:45:43 1996-05-02 03:45:43  66.3  334.1  55.3  276.6   1.300556\n",
      "1996-05-02 04:41:33 1996-05-02 04:41:33  66.2  328.6  55.7  264.6   0.930556\n",
      "1996-05-02 05:24:29 1996-05-02 05:24:29  65.5  342.6  54.8  266.7   0.715556\n",
      "1996-05-02 06:49:07 1996-05-02 06:49:07  64.2  350.4  54.5  258.0   1.410556\n",
      "1996-05-02 18:19:16 1996-05-02 18:19:16  66.3  334.1  70.8   49.9  11.502500\n",
      "1996-05-02 20:56:35 1996-05-02 20:56:35  66.3  340.7  68.6    7.8   2.621944\n",
      "1996-05-02 22:56:21 1996-05-02 22:56:21  67.1  342.6  65.6  336.0   1.996111\n"
     ]
    }
   ],
   "source": [
    "sDt1 = datetime.datetime(1996,3,30).strftime(\"%Y-%m-%d %H:%M:%S\")\n",
    "eDt1 = datetime.datetime(1996,4,1).strftime(\"%Y-%m-%d %H:%M:%S\")\n",
    "# sec date\n",
    "sDt2 = datetime.datetime(1996,5,2)#.strftime(\"%Y-%m-%d %H:%M:%S\")\n",
    "eDt2 = datetime.datetime(1996,5,3)#.strftime(\"%Y-%m-%d %H:%M:%S\")\n",
    "print polarDF.loc[ sDt2 : eDt2 ]"
   ]
  },
  {
   "cell_type": "code",
   "execution_count": null,
   "metadata": {},
   "outputs": [],
   "source": []
  }
 ],
 "metadata": {
  "kernelspec": {
   "display_name": "Python 2",
   "language": "python",
   "name": "python2"
  },
  "language_info": {
   "codemirror_mode": {
    "name": "ipython",
    "version": 2
   },
   "file_extension": ".py",
   "mimetype": "text/x-python",
   "name": "python",
   "nbconvert_exporter": "python",
   "pygments_lexer": "ipython2",
   "version": "2.7.6"
  }
 },
 "nbformat": 4,
 "nbformat_minor": 2
}
