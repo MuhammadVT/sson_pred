{
 "cells": [
  {
   "cell_type": "code",
   "execution_count": 1,
   "metadata": {},
   "outputs": [
    {
     "name": "stderr",
     "output_type": "stream",
     "text": [
      "/usr/local/lib/python2.7/dist-packages/pandas/_libs/__init__.py:4: RuntimeWarning: numpy.dtype size changed, may indicate binary incompatibility. Expected 96, got 88\n",
      "  from .tslib import iNaT, NaT, Timestamp, Timedelta, OutOfBoundsDatetime\n",
      "/usr/local/lib/python2.7/dist-packages/pandas/__init__.py:26: RuntimeWarning: numpy.dtype size changed, may indicate binary incompatibility. Expected 96, got 88\n",
      "  from pandas._libs import (hashtable as _hashtable,\n",
      "/usr/local/lib/python2.7/dist-packages/pandas/core/dtypes/common.py:6: RuntimeWarning: numpy.dtype size changed, may indicate binary incompatibility. Expected 96, got 88\n",
      "  from pandas._libs import algos, lib\n",
      "/usr/local/lib/python2.7/dist-packages/pandas/core/util/hashing.py:7: RuntimeWarning: numpy.dtype size changed, may indicate binary incompatibility. Expected 96, got 88\n",
      "  from pandas._libs import hashing, tslib\n",
      "/usr/local/lib/python2.7/dist-packages/pandas/core/indexes/base.py:7: RuntimeWarning: numpy.dtype size changed, may indicate binary incompatibility. Expected 96, got 88\n",
      "  from pandas._libs import (lib, index as libindex, tslib as libts,\n",
      "/usr/local/lib/python2.7/dist-packages/pandas/tseries/offsets.py:21: RuntimeWarning: numpy.dtype size changed, may indicate binary incompatibility. Expected 96, got 88\n",
      "  import pandas._libs.tslibs.offsets as liboffsets\n",
      "/usr/local/lib/python2.7/dist-packages/pandas/core/ops.py:16: RuntimeWarning: numpy.dtype size changed, may indicate binary incompatibility. Expected 96, got 88\n",
      "  from pandas._libs import algos as libalgos, ops as libops\n",
      "/usr/local/lib/python2.7/dist-packages/pandas/core/indexes/interval.py:32: RuntimeWarning: numpy.dtype size changed, may indicate binary incompatibility. Expected 96, got 88\n",
      "  from pandas._libs.interval import (\n",
      "/usr/local/lib/python2.7/dist-packages/pandas/core/internals.py:14: RuntimeWarning: numpy.dtype size changed, may indicate binary incompatibility. Expected 96, got 88\n",
      "  from pandas._libs import internals as libinternals\n",
      "/usr/local/lib/python2.7/dist-packages/pandas/core/sparse/array.py:33: RuntimeWarning: numpy.dtype size changed, may indicate binary incompatibility. Expected 96, got 88\n",
      "  import pandas._libs.sparse as splib\n",
      "/usr/local/lib/python2.7/dist-packages/pandas/core/window.py:36: RuntimeWarning: numpy.dtype size changed, may indicate binary incompatibility. Expected 96, got 88\n",
      "  import pandas._libs.window as _window\n",
      "/usr/local/lib/python2.7/dist-packages/pandas/core/groupby/groupby.py:68: RuntimeWarning: numpy.dtype size changed, may indicate binary incompatibility. Expected 96, got 88\n",
      "  from pandas._libs import (lib, reduction,\n",
      "/usr/local/lib/python2.7/dist-packages/pandas/core/reshape/reshape.py:30: RuntimeWarning: numpy.dtype size changed, may indicate binary incompatibility. Expected 96, got 88\n",
      "  from pandas._libs import algos as _algos, reshape as _reshape\n",
      "/usr/local/lib/python2.7/dist-packages/pandas/io/parsers.py:45: RuntimeWarning: numpy.dtype size changed, may indicate binary incompatibility. Expected 96, got 88\n",
      "  import pandas._libs.parsers as parsers\n",
      "/usr/local/lib/python2.7/dist-packages/pandas/io/pytables.py:50: RuntimeWarning: numpy.dtype size changed, may indicate binary incompatibility. Expected 96, got 88\n",
      "  from pandas._libs import algos, lib, writers as libwriters\n",
      "/usr/local/lib/python2.7/dist-packages/scipy/special/__init__.py:640: RuntimeWarning: numpy.dtype size changed, may indicate binary incompatibility. Expected 96, got 88\n",
      "  from ._ufuncs import *\n",
      "/usr/local/lib/python2.7/dist-packages/scipy/linalg/basic.py:17: RuntimeWarning: numpy.dtype size changed, may indicate binary incompatibility. Expected 96, got 88\n",
      "  from ._solve_toeplitz import levinson\n",
      "/usr/local/lib/python2.7/dist-packages/scipy/linalg/__init__.py:191: RuntimeWarning: numpy.dtype size changed, may indicate binary incompatibility. Expected 96, got 88\n",
      "  from ._decomp_update import *\n",
      "/usr/local/lib/python2.7/dist-packages/scipy/special/_ellip_harm.py:7: RuntimeWarning: numpy.dtype size changed, may indicate binary incompatibility. Expected 96, got 88\n",
      "  from ._ellip_harm_2 import _ellipsoid, _ellipsoid_norm\n",
      "/usr/local/lib/python2.7/dist-packages/scipy/sparse/lil.py:16: RuntimeWarning: numpy.dtype size changed, may indicate binary incompatibility. Expected 96, got 88\n",
      "  from . import _csparsetools\n",
      "/usr/local/lib/python2.7/dist-packages/scipy/sparse/csgraph/__init__.py:167: RuntimeWarning: numpy.dtype size changed, may indicate binary incompatibility. Expected 96, got 88\n",
      "  from ._shortest_path import shortest_path, floyd_warshall, dijkstra,\\\n",
      "/usr/local/lib/python2.7/dist-packages/scipy/sparse/csgraph/_validation.py:5: RuntimeWarning: numpy.dtype size changed, may indicate binary incompatibility. Expected 96, got 88\n",
      "  from ._tools import csgraph_to_dense, csgraph_from_dense,\\\n",
      "/usr/local/lib/python2.7/dist-packages/scipy/sparse/csgraph/__init__.py:169: RuntimeWarning: numpy.dtype size changed, may indicate binary incompatibility. Expected 96, got 88\n",
      "  from ._traversal import breadth_first_order, depth_first_order, \\\n",
      "/usr/local/lib/python2.7/dist-packages/scipy/sparse/csgraph/__init__.py:171: RuntimeWarning: numpy.dtype size changed, may indicate binary incompatibility. Expected 96, got 88\n",
      "  from ._min_spanning_tree import minimum_spanning_tree\n",
      "/usr/local/lib/python2.7/dist-packages/scipy/sparse/csgraph/__init__.py:172: RuntimeWarning: numpy.dtype size changed, may indicate binary incompatibility. Expected 96, got 88\n",
      "  from ._reordering import reverse_cuthill_mckee, maximum_bipartite_matching, \\\n",
      "/usr/local/lib/python2.7/dist-packages/scipy/optimize/_numdiff.py:8: RuntimeWarning: numpy.dtype size changed, may indicate binary incompatibility. Expected 96, got 88\n",
      "  from ._group_columns import group_dense, group_sparse\n",
      "/usr/local/lib/python2.7/dist-packages/scipy/interpolate/_bsplines.py:9: RuntimeWarning: numpy.dtype size changed, may indicate binary incompatibility. Expected 96, got 88\n",
      "  from . import _bspl\n",
      "/usr/local/lib/python2.7/dist-packages/scipy/spatial/__init__.py:94: RuntimeWarning: numpy.dtype size changed, may indicate binary incompatibility. Expected 96, got 88\n",
      "  from .ckdtree import *\n",
      "/usr/local/lib/python2.7/dist-packages/scipy/spatial/__init__.py:95: RuntimeWarning: numpy.dtype size changed, may indicate binary incompatibility. Expected 96, got 88\n",
      "  from .qhull import *\n",
      "/usr/local/lib/python2.7/dist-packages/scipy/spatial/_spherical_voronoi.py:18: RuntimeWarning: numpy.dtype size changed, may indicate binary incompatibility. Expected 96, got 88\n",
      "  from . import _voronoi\n",
      "/usr/local/lib/python2.7/dist-packages/scipy/spatial/distance.py:121: RuntimeWarning: numpy.dtype size changed, may indicate binary incompatibility. Expected 96, got 88\n",
      "  from . import _hausdorff\n",
      "/usr/local/lib/python2.7/dist-packages/scipy/stats/_continuous_distns.py:17: RuntimeWarning: numpy.dtype size changed, may indicate binary incompatibility. Expected 96, got 88\n",
      "  from . import _stats\n",
      "/usr/local/lib/python2.7/dist-packages/scipy/cluster/vq.py:88: RuntimeWarning: numpy.dtype size changed, may indicate binary incompatibility. Expected 96, got 88\n",
      "  from . import _vq\n",
      "/usr/local/lib/python2.7/dist-packages/scipy/cluster/hierarchy.py:178: RuntimeWarning: numpy.dtype size changed, may indicate binary incompatibility. Expected 96, got 88\n",
      "  from . import _hierarchy\n",
      "/usr/local/lib/python2.7/dist-packages/sklearn/utils/__init__.py:10: RuntimeWarning: numpy.dtype size changed, may indicate binary incompatibility. Expected 96, got 88\n",
      "  from .murmurhash import murmurhash3_32\n"
     ]
    },
    {
     "name": "stdout",
     "output_type": "stream",
     "text": [
      "Populating the interactive namespace from numpy and matplotlib\n"
     ]
    }
   ],
   "source": [
    "import pandas\n",
    "import datetime\n",
    "import seaborn as sns\n",
    "from sklearn.utils import resample\n",
    "import matplotlib.pyplot as plt\n",
    "import sqlite3\n",
    "%pylab inline"
   ]
  },
  {
   "cell_type": "code",
   "execution_count": 2,
   "metadata": {},
   "outputs": [],
   "source": [
    "fName = \"/home/bharat/Documents/code/sson_pred/data/20190103-22-53-substorms.csv\"\n",
    "# newFname = \"../data/filtered-20190103-22-53-substorms.csv\"\n",
    "normMLTLim = [ -5, 5 ]\n",
    "mlatLim = [ 55, 75 ]"
   ]
  },
  {
   "cell_type": "code",
   "execution_count": 3,
   "metadata": {},
   "outputs": [
    {
     "data": {
      "text/html": [
       "<div>\n",
       "<style scoped>\n",
       "    .dataframe tbody tr th:only-of-type {\n",
       "        vertical-align: middle;\n",
       "    }\n",
       "\n",
       "    .dataframe tbody tr th {\n",
       "        vertical-align: top;\n",
       "    }\n",
       "\n",
       "    .dataframe thead th {\n",
       "        text-align: right;\n",
       "    }\n",
       "</style>\n",
       "<table border=\"1\" class=\"dataframe\">\n",
       "  <thead>\n",
       "    <tr style=\"text-align: right;\">\n",
       "      <th></th>\n",
       "      <th>datetime</th>\n",
       "      <th>mlat</th>\n",
       "      <th>mlt</th>\n",
       "      <th>normMLT</th>\n",
       "    </tr>\n",
       "  </thead>\n",
       "  <tbody>\n",
       "    <tr>\n",
       "      <th>0</th>\n",
       "      <td>1996-01-01 20:16:00</td>\n",
       "      <td>71.32</td>\n",
       "      <td>22.45</td>\n",
       "      <td>-1.55</td>\n",
       "    </tr>\n",
       "    <tr>\n",
       "      <th>1</th>\n",
       "      <td>1996-01-01 23:36:00</td>\n",
       "      <td>70.23</td>\n",
       "      <td>0.07</td>\n",
       "      <td>0.07</td>\n",
       "    </tr>\n",
       "    <tr>\n",
       "      <th>2</th>\n",
       "      <td>1996-01-02 00:25:00</td>\n",
       "      <td>69.36</td>\n",
       "      <td>22.92</td>\n",
       "      <td>-1.08</td>\n",
       "    </tr>\n",
       "    <tr>\n",
       "      <th>3</th>\n",
       "      <td>1996-01-02 14:12:00</td>\n",
       "      <td>70.06</td>\n",
       "      <td>23.20</td>\n",
       "      <td>-0.80</td>\n",
       "    </tr>\n",
       "    <tr>\n",
       "      <th>4</th>\n",
       "      <td>1996-01-02 16:09:00</td>\n",
       "      <td>65.81</td>\n",
       "      <td>0.62</td>\n",
       "      <td>0.62</td>\n",
       "    </tr>\n",
       "  </tbody>\n",
       "</table>\n",
       "</div>"
      ],
      "text/plain": [
       "             datetime   mlat    mlt  normMLT\n",
       "0 1996-01-01 20:16:00  71.32  22.45    -1.55\n",
       "1 1996-01-01 23:36:00  70.23   0.07     0.07\n",
       "2 1996-01-02 00:25:00  69.36  22.92    -1.08\n",
       "3 1996-01-02 14:12:00  70.06  23.20    -0.80\n",
       "4 1996-01-02 16:09:00  65.81   0.62     0.62"
      ]
     },
     "execution_count": 3,
     "metadata": {},
     "output_type": "execute_result"
    }
   ],
   "source": [
    "smssDF = pandas.read_csv(fName, parse_dates=[\"Date_UTC\"])\n",
    "# rename the cols\n",
    "smssDF.columns = [ \"datetime\", \"mlat\", \"mlt\" ]\n",
    "smssDF['normMLT'] = [x-24 if x >= 12 else x\\\n",
    "                     for x in smssDF['mlt']]\n",
    "smssDF.head()"
   ]
  },
  {
   "cell_type": "code",
   "execution_count": 4,
   "metadata": {},
   "outputs": [],
   "source": [
    "filteredSMDF = smssDF[ ( smssDF[\"normMLT\"] >= normMLTLim[0] ) &\\\n",
    "                     ( smssDF[\"normMLT\"] <= normMLTLim[1] ) &\\\n",
    "                     ( smssDF[\"mlat\"] >= mlatLim[0] ) &\\\n",
    "                     ( smssDF[\"mlat\"] <= mlatLim[1] ) ]"
   ]
  },
  {
   "cell_type": "code",
   "execution_count": 5,
   "metadata": {},
   "outputs": [
    {
     "data": {
      "text/plain": [
       "<matplotlib.text.Text at 0x7f26d2188990>"
      ]
     },
     "execution_count": 5,
     "metadata": {},
     "output_type": "execute_result"
    },
    {
     "data": {
      "image/png": "[encoded data removed]",
      "text/plain": [
       "<matplotlib.figure.Figure at 0x7f26d2095450>"
      ]
     },
     "metadata": {},
     "output_type": "display_data"
    }
   ],
   "source": [
    "# bins = range(0,2000,20)#[0,10,20,40,60,120,240,2400]\n",
    "\n",
    "plt.style.use(\"fivethirtyeight\")\n",
    "f = plt.figure(figsize=(12, 8))\n",
    "\n",
    "ax1 = f.add_subplot(1,1,1)\n",
    "\n",
    "hist = ax1.hist(smssDF['normMLT'].values)\n",
    "\n",
    "# ax1.set_xlim(0,24)\n",
    "ax1.set_title(\"SML dataset\")\n",
    "ax1.set_xlabel(\"Normalized MLT\")\n"
   ]
  },
  {
   "cell_type": "code",
   "execution_count": 6,
   "metadata": {},
   "outputs": [
    {
     "data": {
      "text/plain": [
       "<matplotlib.text.Text at 0x7f26cfde7b50>"
      ]
     },
     "execution_count": 6,
     "metadata": {},
     "output_type": "execute_result"
    },
    {
     "data": {
      "image/png": "[encoded data removed]",
      "text/plain": [
       "<matplotlib.figure.Figure at 0x7f26d22a23d0>"
      ]
     },
     "metadata": {},
     "output_type": "display_data"
    }
   ],
   "source": [
    "# bins = range(0,2000,20)#[0,10,20,40,60,120,240,2400]\n",
    "\n",
    "plt.style.use(\"fivethirtyeight\")\n",
    "f = plt.figure(figsize=(12, 8))\n",
    "\n",
    "ax1 = f.add_subplot(1,1,1)\n",
    "\n",
    "hist = ax1.hist(smssDF['mlat'].values)\n",
    "\n",
    "# ax1.set_xlim(0,24)\n",
    "ax1.set_title(\"SML dataset\")\n",
    "ax1.set_xlabel(\"MLAT\")\n"
   ]
  },
  {
   "cell_type": "code",
   "execution_count": 7,
   "metadata": {},
   "outputs": [
    {
     "data": {
      "text/plain": [
       "<matplotlib.text.Text at 0x7f26cff71e10>"
      ]
     },
     "execution_count": 7,
     "metadata": {},
     "output_type": "execute_result"
    },
    {
     "data": {
      "image/png": "[encoded data removed]",
      "text/plain": [
       "<matplotlib.figure.Figure at 0x7f26d22b7a10>"
      ]
     },
     "metadata": {},
     "output_type": "display_data"
    }
   ],
   "source": [
    "# bins = range(0,2000,20)#[0,10,20,40,60,120,240,2400]\n",
    "\n",
    "plt.style.use(\"fivethirtyeight\")\n",
    "f = plt.figure(figsize=(12, 8))\n",
    "\n",
    "ax1 = f.add_subplot(1,1,1)\n",
    "\n",
    "hist = ax1.hist(filteredSMDF['normMLT'].values)\n",
    "\n",
    "# ax1.set_xlim(0,24)\n",
    "ax1.set_title(\"SML dataset\")\n",
    "ax1.set_xlabel(\"Normalized MLT\")\n"
   ]
  },
  {
   "cell_type": "code",
   "execution_count": 8,
   "metadata": {},
   "outputs": [
    {
     "data": {
      "text/plain": [
       "<matplotlib.text.Text at 0x7f26cffbccd0>"
      ]
     },
     "execution_count": 8,
     "metadata": {},
     "output_type": "execute_result"
    },
    {
     "data": {
      "image/png": "[encoded data removed]",
      "text/plain": [
       "<matplotlib.figure.Figure at 0x7f26cff11a50>"
      ]
     },
     "metadata": {},
     "output_type": "display_data"
    }
   ],
   "source": [
    "# bins = range(0,2000,20)#[0,10,20,40,60,120,240,2400]\n",
    "\n",
    "plt.style.use(\"fivethirtyeight\")\n",
    "f = plt.figure(figsize=(12, 8))\n",
    "\n",
    "ax1 = f.add_subplot(1,1,1)\n",
    "\n",
    "hist = ax1.hist(filteredSMDF['mlat'].values)\n",
    "\n",
    "# ax1.set_xlim(0,24)\n",
    "ax1.set_title(\"SML dataset\")\n",
    "ax1.set_xlabel(\"MLAT\")\n"
   ]
  },
  {
   "cell_type": "code",
   "execution_count": 9,
   "metadata": {},
   "outputs": [
    {
     "name": "stdout",
     "output_type": "stream",
     "text": [
      "1996-01-01 18:16:00 2017-12-31 21:09:00\n"
     ]
    }
   ],
   "source": [
    "start_date = filteredSMDF[\"datetime\"].min() - datetime.timedelta(hours=2)\n",
    "end_date = filteredSMDF[\"datetime\"].max()\n",
    "print start_date, end_date"
   ]
  },
  {
   "cell_type": "code",
   "execution_count": 10,
   "metadata": {},
   "outputs": [],
   "source": [
    "omn_dbdir = \"../data/sqlite3/\"\n",
    "omn_db_name = \"smu_sml_sme.sqlite\"\n",
    "omn_table_name = \"smusmlsme\""
   ]
  },
  {
   "cell_type": "code",
   "execution_count": 11,
   "metadata": {},
   "outputs": [
    {
     "data": {
      "text/html": [
       "<div>\n",
       "<style scoped>\n",
       "    .dataframe tbody tr th:only-of-type {\n",
       "        vertical-align: middle;\n",
       "    }\n",
       "\n",
       "    .dataframe tbody tr th {\n",
       "        vertical-align: top;\n",
       "    }\n",
       "\n",
       "    .dataframe thead th {\n",
       "        text-align: right;\n",
       "    }\n",
       "</style>\n",
       "<table border=\"1\" class=\"dataframe\">\n",
       "  <thead>\n",
       "    <tr style=\"text-align: right;\">\n",
       "      <th></th>\n",
       "      <th>datetime</th>\n",
       "      <th>al</th>\n",
       "      <th>ae</th>\n",
       "      <th>au</th>\n",
       "    </tr>\n",
       "    <tr>\n",
       "      <th>datetime</th>\n",
       "      <th></th>\n",
       "      <th></th>\n",
       "      <th></th>\n",
       "      <th></th>\n",
       "    </tr>\n",
       "  </thead>\n",
       "  <tbody>\n",
       "    <tr>\n",
       "      <th>1996-01-01 18:16:00</th>\n",
       "      <td>1996-01-01 18:16:00</td>\n",
       "      <td>-22</td>\n",
       "      <td>104</td>\n",
       "      <td>81</td>\n",
       "    </tr>\n",
       "    <tr>\n",
       "      <th>1996-01-01 18:17:00</th>\n",
       "      <td>1996-01-01 18:17:00</td>\n",
       "      <td>-22</td>\n",
       "      <td>103</td>\n",
       "      <td>81</td>\n",
       "    </tr>\n",
       "    <tr>\n",
       "      <th>1996-01-01 18:18:00</th>\n",
       "      <td>1996-01-01 18:18:00</td>\n",
       "      <td>-21</td>\n",
       "      <td>101</td>\n",
       "      <td>80</td>\n",
       "    </tr>\n",
       "    <tr>\n",
       "      <th>1996-01-01 18:19:00</th>\n",
       "      <td>1996-01-01 18:19:00</td>\n",
       "      <td>-23</td>\n",
       "      <td>103</td>\n",
       "      <td>79</td>\n",
       "    </tr>\n",
       "    <tr>\n",
       "      <th>1996-01-01 18:20:00</th>\n",
       "      <td>1996-01-01 18:20:00</td>\n",
       "      <td>-21</td>\n",
       "      <td>101</td>\n",
       "      <td>79</td>\n",
       "    </tr>\n",
       "  </tbody>\n",
       "</table>\n",
       "</div>"
      ],
      "text/plain": [
       "                               datetime  al   ae  au\n",
       "datetime                                            \n",
       "1996-01-01 18:16:00 1996-01-01 18:16:00 -22  104  81\n",
       "1996-01-01 18:17:00 1996-01-01 18:17:00 -22  103  81\n",
       "1996-01-01 18:18:00 1996-01-01 18:18:00 -21  101  80\n",
       "1996-01-01 18:19:00 1996-01-01 18:19:00 -23  103  79\n",
       "1996-01-01 18:20:00 1996-01-01 18:20:00 -21  101  79"
      ]
     },
     "execution_count": 11,
     "metadata": {},
     "output_type": "execute_result"
    }
   ],
   "source": [
    "# read omni data\n",
    "conn = sqlite3.connect(omn_dbdir + omn_db_name,\n",
    "                       detect_types = sqlite3.PARSE_DECLTYPES)\n",
    "# load data to a dataframe\n",
    "command = \"SELECT datetime, al, ae, au FROM {tb} WHERE datetime BETWEEN '{stm}' and '{etm}'\"\n",
    "command = command.format(tb=omn_table_name,\\\n",
    "                         stm=start_date, etm=end_date)\n",
    "smlDF = pandas.read_sql(command, conn)\n",
    "# drop nan's\n",
    "smlDF.dropna(inplace=True)\n",
    "smlDF.set_index(smlDF[\"datetime\"], inplace=True)\n",
    "smlDF.head()"
   ]
  },
  {
   "cell_type": "code",
   "execution_count": 12,
   "metadata": {},
   "outputs": [],
   "source": [
    "def get_sml_vars(row):\n",
    "    \"\"\"\n",
    "    Get mean, median, std, min and max of sml \n",
    "    during various substorms over the next interval range.\n",
    "    \"\"\"\n",
    "    delTimeList = [30,60]#[ 15, 30, 60, 120 ]\n",
    "    for _dtl in delTimeList:\n",
    "        _pd = row[\"datetime\"] - datetime.timedelta(minutes=10)\n",
    "        _cd = row[\"datetime\"] + datetime.timedelta(minutes=1)\n",
    "#         _cdtList = [ _cd + datetime.timedelta(minutes=_x) for\\\n",
    "#                         _x in range(_dtl) ]\n",
    "        _ed = row[\"datetime\"] + datetime.timedelta(minutes=_dtl)\n",
    "        _resDF = smlDF[ _cd : _ed ]\n",
    "        _baselineAl = smlDF[ _pd : _cd ][\"al\"].median()\n",
    "        _baselineAe = smlDF[ _pd : _cd ][\"ae\"].median()\n",
    "#         _resDF = smlDF[ smlDF[\"datetime\"].isin(_cdtList) ]\n",
    "        row[\"mean_al_\" + str(_dtl)] = _resDF[\"al\"].mean()\n",
    "        row[\"median_al_\" + str(_dtl)] = _resDF[\"al\"].median()\n",
    "        row[\"std_al_\" + str(_dtl)] = _resDF[\"al\"].std()\n",
    "        row[\"min_al_\" + str(_dtl)] = _resDF[\"al\"].min()\n",
    "        row[\"max_al_\" + str(_dtl)] = _resDF[\"al\"].max()\n",
    "        row[\"mean_ae_\" + str(_dtl)] = _resDF[\"ae\"].mean()\n",
    "        row[\"median_ae_\" + str(_dtl)] = _resDF[\"ae\"].median()\n",
    "        row[\"std_ae_\" + str(_dtl)] = _resDF[\"ae\"].std()\n",
    "        row[\"min_ae_\" + str(_dtl)] = _resDF[\"ae\"].min()\n",
    "        row[\"max_ae_\" + str(_dtl)] = _resDF[\"ae\"].max()\n",
    "        row[\"mean_au_\" + str(_dtl)] = _resDF[\"au\"].mean()\n",
    "        row[\"median_au_\" + str(_dtl)] = _resDF[\"au\"].median()\n",
    "        row[\"std_au_\" + str(_dtl)] = _resDF[\"au\"].std()\n",
    "        row[\"min_au_\" + str(_dtl)] = _resDF[\"au\"].min()\n",
    "        row[\"max_au_\" + str(_dtl)] = _resDF[\"au\"].max()\n",
    "        row[\"al_dip_\" + str(_dtl)] = _resDF[\"al\"].min() - _baselineAl\n",
    "        row[\"ae_dip_\" + str(_dtl)] = _resDF[\"ae\"].max() - _baselineAe\n",
    "    return row\n",
    "\n",
    "filteredSMDF = filteredSMDF.apply( get_sml_vars, axis=1 )"
   ]
  },
  {
   "cell_type": "code",
   "execution_count": 13,
   "metadata": {},
   "outputs": [
    {
     "data": {
      "text/html": [
       "<div>\n",
       "<style scoped>\n",
       "    .dataframe tbody tr th:only-of-type {\n",
       "        vertical-align: middle;\n",
       "    }\n",
       "\n",
       "    .dataframe tbody tr th {\n",
       "        vertical-align: top;\n",
       "    }\n",
       "\n",
       "    .dataframe thead th {\n",
       "        text-align: right;\n",
       "    }\n",
       "</style>\n",
       "<table border=\"1\" class=\"dataframe\">\n",
       "  <thead>\n",
       "    <tr style=\"text-align: right;\">\n",
       "      <th></th>\n",
       "      <th>datetime</th>\n",
       "      <th>mlat</th>\n",
       "      <th>mlt</th>\n",
       "      <th>normMLT</th>\n",
       "      <th>mean_al_30</th>\n",
       "      <th>median_al_30</th>\n",
       "      <th>std_al_30</th>\n",
       "      <th>min_al_30</th>\n",
       "      <th>max_al_30</th>\n",
       "      <th>mean_ae_30</th>\n",
       "      <th>...</th>\n",
       "      <th>std_ae_60</th>\n",
       "      <th>min_ae_60</th>\n",
       "      <th>max_ae_60</th>\n",
       "      <th>mean_au_60</th>\n",
       "      <th>median_au_60</th>\n",
       "      <th>std_au_60</th>\n",
       "      <th>min_au_60</th>\n",
       "      <th>max_au_60</th>\n",
       "      <th>al_dip_60</th>\n",
       "      <th>ae_dip_60</th>\n",
       "    </tr>\n",
       "  </thead>\n",
       "  <tbody>\n",
       "    <tr>\n",
       "      <th>0</th>\n",
       "      <td>1996-01-01 20:16:00</td>\n",
       "      <td>71.32</td>\n",
       "      <td>22.45</td>\n",
       "      <td>-1.55</td>\n",
       "      <td>-392.800000</td>\n",
       "      <td>-381.0</td>\n",
       "      <td>87.923713</td>\n",
       "      <td>-604.0</td>\n",
       "      <td>-244.0</td>\n",
       "      <td>505.966667</td>\n",
       "      <td>...</td>\n",
       "      <td>169.504159</td>\n",
       "      <td>165.0</td>\n",
       "      <td>841.0</td>\n",
       "      <td>86.683333</td>\n",
       "      <td>63.0</td>\n",
       "      <td>51.787863</td>\n",
       "      <td>51.0</td>\n",
       "      <td>240.0</td>\n",
       "      <td>-472.0</td>\n",
       "      <td>615.0</td>\n",
       "    </tr>\n",
       "    <tr>\n",
       "      <th>1</th>\n",
       "      <td>1996-01-01 23:36:00</td>\n",
       "      <td>70.23</td>\n",
       "      <td>0.07</td>\n",
       "      <td>0.07</td>\n",
       "      <td>-194.033333</td>\n",
       "      <td>-186.5</td>\n",
       "      <td>59.690861</td>\n",
       "      <td>-317.0</td>\n",
       "      <td>-109.0</td>\n",
       "      <td>267.133333</td>\n",
       "      <td>...</td>\n",
       "      <td>72.364213</td>\n",
       "      <td>122.0</td>\n",
       "      <td>390.0</td>\n",
       "      <td>74.450000</td>\n",
       "      <td>74.0</td>\n",
       "      <td>2.346472</td>\n",
       "      <td>70.0</td>\n",
       "      <td>80.0</td>\n",
       "      <td>-269.5</td>\n",
       "      <td>266.0</td>\n",
       "    </tr>\n",
       "    <tr>\n",
       "      <th>2</th>\n",
       "      <td>1996-01-02 00:25:00</td>\n",
       "      <td>69.36</td>\n",
       "      <td>22.92</td>\n",
       "      <td>-1.08</td>\n",
       "      <td>-231.466667</td>\n",
       "      <td>-229.0</td>\n",
       "      <td>55.030859</td>\n",
       "      <td>-348.0</td>\n",
       "      <td>-133.0</td>\n",
       "      <td>305.066667</td>\n",
       "      <td>...</td>\n",
       "      <td>70.116680</td>\n",
       "      <td>147.0</td>\n",
       "      <td>420.0</td>\n",
       "      <td>74.083333</td>\n",
       "      <td>74.0</td>\n",
       "      <td>1.915960</td>\n",
       "      <td>71.0</td>\n",
       "      <td>80.0</td>\n",
       "      <td>-276.0</td>\n",
       "      <td>270.5</td>\n",
       "    </tr>\n",
       "    <tr>\n",
       "      <th>3</th>\n",
       "      <td>1996-01-02 14:12:00</td>\n",
       "      <td>70.06</td>\n",
       "      <td>23.20</td>\n",
       "      <td>-0.80</td>\n",
       "      <td>-151.733333</td>\n",
       "      <td>-144.5</td>\n",
       "      <td>36.997608</td>\n",
       "      <td>-222.0</td>\n",
       "      <td>-80.0</td>\n",
       "      <td>221.733333</td>\n",
       "      <td>...</td>\n",
       "      <td>57.025445</td>\n",
       "      <td>94.0</td>\n",
       "      <td>341.0</td>\n",
       "      <td>58.966667</td>\n",
       "      <td>48.5</td>\n",
       "      <td>26.649620</td>\n",
       "      <td>30.0</td>\n",
       "      <td>166.0</td>\n",
       "      <td>-186.0</td>\n",
       "      <td>226.5</td>\n",
       "    </tr>\n",
       "    <tr>\n",
       "      <th>4</th>\n",
       "      <td>1996-01-02 16:09:00</td>\n",
       "      <td>65.81</td>\n",
       "      <td>0.62</td>\n",
       "      <td>0.62</td>\n",
       "      <td>-294.733333</td>\n",
       "      <td>-287.0</td>\n",
       "      <td>89.158879</td>\n",
       "      <td>-476.0</td>\n",
       "      <td>-169.0</td>\n",
       "      <td>376.033333</td>\n",
       "      <td>...</td>\n",
       "      <td>99.128250</td>\n",
       "      <td>170.0</td>\n",
       "      <td>570.0</td>\n",
       "      <td>74.566667</td>\n",
       "      <td>82.0</td>\n",
       "      <td>19.475640</td>\n",
       "      <td>32.0</td>\n",
       "      <td>101.0</td>\n",
       "      <td>-357.0</td>\n",
       "      <td>412.0</td>\n",
       "    </tr>\n",
       "  </tbody>\n",
       "</table>\n",
       "<p>5 rows × 38 columns</p>\n",
       "</div>"
      ],
      "text/plain": [
       "             datetime   mlat    mlt  normMLT  mean_al_30  median_al_30  \\\n",
       "0 1996-01-01 20:16:00  71.32  22.45    -1.55 -392.800000        -381.0   \n",
       "1 1996-01-01 23:36:00  70.23   0.07     0.07 -194.033333        -186.5   \n",
       "2 1996-01-02 00:25:00  69.36  22.92    -1.08 -231.466667        -229.0   \n",
       "3 1996-01-02 14:12:00  70.06  23.20    -0.80 -151.733333        -144.5   \n",
       "4 1996-01-02 16:09:00  65.81   0.62     0.62 -294.733333        -287.0   \n",
       "\n",
       "   std_al_30  min_al_30  max_al_30  mean_ae_30    ...       std_ae_60  \\\n",
       "0  87.923713     -604.0     -244.0  505.966667    ...      169.504159   \n",
       "1  59.690861     -317.0     -109.0  267.133333    ...       72.364213   \n",
       "2  55.030859     -348.0     -133.0  305.066667    ...       70.116680   \n",
       "3  36.997608     -222.0      -80.0  221.733333    ...       57.025445   \n",
       "4  89.158879     -476.0     -169.0  376.033333    ...       99.128250   \n",
       "\n",
       "   min_ae_60  max_ae_60  mean_au_60  median_au_60  std_au_60  min_au_60  \\\n",
       "0      165.0      841.0   86.683333          63.0  51.787863       51.0   \n",
       "1      122.0      390.0   74.450000          74.0   2.346472       70.0   \n",
       "2      147.0      420.0   74.083333          74.0   1.915960       71.0   \n",
       "3       94.0      341.0   58.966667          48.5  26.649620       30.0   \n",
       "4      170.0      570.0   74.566667          82.0  19.475640       32.0   \n",
       "\n",
       "   max_au_60  al_dip_60  ae_dip_60  \n",
       "0      240.0     -472.0      615.0  \n",
       "1       80.0     -269.5      266.0  \n",
       "2       80.0     -276.0      270.5  \n",
       "3      166.0     -186.0      226.5  \n",
       "4      101.0     -357.0      412.0  \n",
       "\n",
       "[5 rows x 38 columns]"
      ]
     },
     "execution_count": 13,
     "metadata": {},
     "output_type": "execute_result"
    }
   ],
   "source": [
    "filteredSMDF.head()"
   ]
  },
  {
   "cell_type": "code",
   "execution_count": 14,
   "metadata": {},
   "outputs": [],
   "source": [
    "filteredSMDF.to_csv(\"../data/substorm-smul-dataset.csv\")"
   ]
  },
  {
   "cell_type": "code",
   "execution_count": 15,
   "metadata": {},
   "outputs": [],
   "source": [
    "# # save as csv file\n",
    "# saveCols = [ \"datetime\", \"mlat\", \"mlt\" ]\n",
    "# newColNames = [ \"Date_UTC\", \"MLAT\", \"MLT\" ]\n",
    "# saveFltrDF = filteredSMDF[saveCols]\n",
    "# saveFltrDF.columns = newColNames\n",
    "# saveFltrDF.reset_index(drop=True).to_csv(newFname, index=False)"
   ]
  },
  {
   "cell_type": "code",
   "execution_count": 16,
   "metadata": {},
   "outputs": [
    {
     "data": {
      "text/html": [
       "<div>\n",
       "<style scoped>\n",
       "    .dataframe tbody tr th:only-of-type {\n",
       "        vertical-align: middle;\n",
       "    }\n",
       "\n",
       "    .dataframe tbody tr th {\n",
       "        vertical-align: top;\n",
       "    }\n",
       "\n",
       "    .dataframe thead th {\n",
       "        text-align: right;\n",
       "    }\n",
       "</style>\n",
       "<table border=\"1\" class=\"dataframe\">\n",
       "  <thead>\n",
       "    <tr style=\"text-align: right;\">\n",
       "      <th></th>\n",
       "      <th>datetime</th>\n",
       "      <th>mlat</th>\n",
       "      <th>mlt</th>\n",
       "      <th>normMLT</th>\n",
       "      <th>mean_al_30</th>\n",
       "      <th>median_al_30</th>\n",
       "      <th>std_al_30</th>\n",
       "      <th>min_al_30</th>\n",
       "      <th>max_al_30</th>\n",
       "      <th>mean_ae_30</th>\n",
       "      <th>...</th>\n",
       "      <th>std_ae_60</th>\n",
       "      <th>min_ae_60</th>\n",
       "      <th>max_ae_60</th>\n",
       "      <th>mean_au_60</th>\n",
       "      <th>median_au_60</th>\n",
       "      <th>std_au_60</th>\n",
       "      <th>min_au_60</th>\n",
       "      <th>max_au_60</th>\n",
       "      <th>al_dip_60</th>\n",
       "      <th>ae_dip_60</th>\n",
       "    </tr>\n",
       "  </thead>\n",
       "  <tbody>\n",
       "    <tr>\n",
       "      <th>0</th>\n",
       "      <td>1996-01-01 20:16:00</td>\n",
       "      <td>71.32</td>\n",
       "      <td>22.45</td>\n",
       "      <td>-1.55</td>\n",
       "      <td>-392.800000</td>\n",
       "      <td>-381.0</td>\n",
       "      <td>87.923713</td>\n",
       "      <td>-604.0</td>\n",
       "      <td>-244.0</td>\n",
       "      <td>505.966667</td>\n",
       "      <td>...</td>\n",
       "      <td>169.504159</td>\n",
       "      <td>165.0</td>\n",
       "      <td>841.0</td>\n",
       "      <td>86.683333</td>\n",
       "      <td>63.0</td>\n",
       "      <td>51.787863</td>\n",
       "      <td>51.0</td>\n",
       "      <td>240.0</td>\n",
       "      <td>-472.0</td>\n",
       "      <td>615.0</td>\n",
       "    </tr>\n",
       "    <tr>\n",
       "      <th>1</th>\n",
       "      <td>1996-01-01 23:36:00</td>\n",
       "      <td>70.23</td>\n",
       "      <td>0.07</td>\n",
       "      <td>0.07</td>\n",
       "      <td>-194.033333</td>\n",
       "      <td>-186.5</td>\n",
       "      <td>59.690861</td>\n",
       "      <td>-317.0</td>\n",
       "      <td>-109.0</td>\n",
       "      <td>267.133333</td>\n",
       "      <td>...</td>\n",
       "      <td>72.364213</td>\n",
       "      <td>122.0</td>\n",
       "      <td>390.0</td>\n",
       "      <td>74.450000</td>\n",
       "      <td>74.0</td>\n",
       "      <td>2.346472</td>\n",
       "      <td>70.0</td>\n",
       "      <td>80.0</td>\n",
       "      <td>-269.5</td>\n",
       "      <td>266.0</td>\n",
       "    </tr>\n",
       "    <tr>\n",
       "      <th>2</th>\n",
       "      <td>1996-01-02 00:25:00</td>\n",
       "      <td>69.36</td>\n",
       "      <td>22.92</td>\n",
       "      <td>-1.08</td>\n",
       "      <td>-231.466667</td>\n",
       "      <td>-229.0</td>\n",
       "      <td>55.030859</td>\n",
       "      <td>-348.0</td>\n",
       "      <td>-133.0</td>\n",
       "      <td>305.066667</td>\n",
       "      <td>...</td>\n",
       "      <td>70.116680</td>\n",
       "      <td>147.0</td>\n",
       "      <td>420.0</td>\n",
       "      <td>74.083333</td>\n",
       "      <td>74.0</td>\n",
       "      <td>1.915960</td>\n",
       "      <td>71.0</td>\n",
       "      <td>80.0</td>\n",
       "      <td>-276.0</td>\n",
       "      <td>270.5</td>\n",
       "    </tr>\n",
       "    <tr>\n",
       "      <th>3</th>\n",
       "      <td>1996-01-02 14:12:00</td>\n",
       "      <td>70.06</td>\n",
       "      <td>23.20</td>\n",
       "      <td>-0.80</td>\n",
       "      <td>-151.733333</td>\n",
       "      <td>-144.5</td>\n",
       "      <td>36.997608</td>\n",
       "      <td>-222.0</td>\n",
       "      <td>-80.0</td>\n",
       "      <td>221.733333</td>\n",
       "      <td>...</td>\n",
       "      <td>57.025445</td>\n",
       "      <td>94.0</td>\n",
       "      <td>341.0</td>\n",
       "      <td>58.966667</td>\n",
       "      <td>48.5</td>\n",
       "      <td>26.649620</td>\n",
       "      <td>30.0</td>\n",
       "      <td>166.0</td>\n",
       "      <td>-186.0</td>\n",
       "      <td>226.5</td>\n",
       "    </tr>\n",
       "    <tr>\n",
       "      <th>4</th>\n",
       "      <td>1996-01-02 16:09:00</td>\n",
       "      <td>65.81</td>\n",
       "      <td>0.62</td>\n",
       "      <td>0.62</td>\n",
       "      <td>-294.733333</td>\n",
       "      <td>-287.0</td>\n",
       "      <td>89.158879</td>\n",
       "      <td>-476.0</td>\n",
       "      <td>-169.0</td>\n",
       "      <td>376.033333</td>\n",
       "      <td>...</td>\n",
       "      <td>99.128250</td>\n",
       "      <td>170.0</td>\n",
       "      <td>570.0</td>\n",
       "      <td>74.566667</td>\n",
       "      <td>82.0</td>\n",
       "      <td>19.475640</td>\n",
       "      <td>32.0</td>\n",
       "      <td>101.0</td>\n",
       "      <td>-357.0</td>\n",
       "      <td>412.0</td>\n",
       "    </tr>\n",
       "  </tbody>\n",
       "</table>\n",
       "<p>5 rows × 38 columns</p>\n",
       "</div>"
      ],
      "text/plain": [
       "             datetime   mlat    mlt  normMLT  mean_al_30  median_al_30  \\\n",
       "0 1996-01-01 20:16:00  71.32  22.45    -1.55 -392.800000        -381.0   \n",
       "1 1996-01-01 23:36:00  70.23   0.07     0.07 -194.033333        -186.5   \n",
       "2 1996-01-02 00:25:00  69.36  22.92    -1.08 -231.466667        -229.0   \n",
       "3 1996-01-02 14:12:00  70.06  23.20    -0.80 -151.733333        -144.5   \n",
       "4 1996-01-02 16:09:00  65.81   0.62     0.62 -294.733333        -287.0   \n",
       "\n",
       "   std_al_30  min_al_30  max_al_30  mean_ae_30    ...       std_ae_60  \\\n",
       "0  87.923713     -604.0     -244.0  505.966667    ...      169.504159   \n",
       "1  59.690861     -317.0     -109.0  267.133333    ...       72.364213   \n",
       "2  55.030859     -348.0     -133.0  305.066667    ...       70.116680   \n",
       "3  36.997608     -222.0      -80.0  221.733333    ...       57.025445   \n",
       "4  89.158879     -476.0     -169.0  376.033333    ...       99.128250   \n",
       "\n",
       "   min_ae_60  max_ae_60  mean_au_60  median_au_60  std_au_60  min_au_60  \\\n",
       "0      165.0      841.0   86.683333          63.0  51.787863       51.0   \n",
       "1      122.0      390.0   74.450000          74.0   2.346472       70.0   \n",
       "2      147.0      420.0   74.083333          74.0   1.915960       71.0   \n",
       "3       94.0      341.0   58.966667          48.5  26.649620       30.0   \n",
       "4      170.0      570.0   74.566667          82.0  19.475640       32.0   \n",
       "\n",
       "   max_au_60  al_dip_60  ae_dip_60  \n",
       "0      240.0     -472.0      615.0  \n",
       "1       80.0     -269.5      266.0  \n",
       "2       80.0     -276.0      270.5  \n",
       "3      166.0     -186.0      226.5  \n",
       "4      101.0     -357.0      412.0  \n",
       "\n",
       "[5 rows x 38 columns]"
      ]
     },
     "execution_count": 16,
     "metadata": {},
     "output_type": "execute_result"
    }
   ],
   "source": [
    "filteredSMDF.head()"
   ]
  },
  {
   "cell_type": "code",
   "execution_count": 17,
   "metadata": {},
   "outputs": [],
   "source": [
    "filteredSMDF2 = filteredSMDF.dropna()"
   ]
  },
  {
   "cell_type": "code",
   "execution_count": 18,
   "metadata": {},
   "outputs": [
    {
     "data": {
      "text/plain": [
       "{'boxes': [<matplotlib.lines.Line2D at 0x7f26ceb56210>],\n",
       " 'caps': [<matplotlib.lines.Line2D at 0x7f26ce547450>,\n",
       "  <matplotlib.lines.Line2D at 0x7f26c8b42f10>],\n",
       " 'fliers': [],\n",
       " 'means': [],\n",
       " 'medians': [<matplotlib.lines.Line2D at 0x7f26c8b42750>],\n",
       " 'whiskers': [<matplotlib.lines.Line2D at 0x7f26ceb56cd0>,\n",
       "  <matplotlib.lines.Line2D at 0x7f26ce547350>]}"
      ]
     },
     "execution_count": 18,
     "metadata": {},
     "output_type": "execute_result"
    },
    {
     "data": {
      "image/png": "[encoded data removed]",
      "text/plain": [
       "<matplotlib.figure.Figure at 0x7f26cfdf8d50>"
      ]
     },
     "metadata": {},
     "output_type": "display_data"
    }
   ],
   "source": [
    "# bins = range(0,2000,20)#[0,10,20,40,60,120,240,2400]\n",
    "\n",
    "plt.style.use(\"fivethirtyeight\")\n",
    "f = plt.figure(figsize=(12, 8))\n",
    "\n",
    "ax1 = f.add_subplot(1,1,1)\n",
    "\n",
    "ax1.boxplot( filteredSMDF2[\"mean_al_30\"].values, showfliers=False )"
   ]
  },
  {
   "cell_type": "code",
   "execution_count": 22,
   "metadata": {},
   "outputs": [
    {
     "name": "stdout",
     "output_type": "stream",
     "text": [
      "(36238, 4)\n",
      "(29421, 38)\n",
      "(29420, 38)\n",
      "(29086, 38)\n"
     ]
    }
   ],
   "source": [
    "print smssDF.shape\n",
    "print filteredSMDF.shape\n",
    "print filteredSMDF2.shape\n",
    "alDipCutoff = -300\n",
    "alCutoff = -300\n",
    "alFilteredSMDF = filteredSMDF[ (filteredSMDF[\"min_al_60\"] >= -3000) &\\\n",
    "                           (filteredSMDF[\"max_ae_60\"] <= 3000) &\\\n",
    "                           (filteredSMDF[\"al_dip_60\"] < 0) &\\\n",
    "                           (filteredSMDF[\"ae_dip_60\"] > 0)]\n",
    "print alFilteredSMDF.shape\n"
   ]
  },
  {
   "cell_type": "code",
   "execution_count": 25,
   "metadata": {},
   "outputs": [],
   "source": [
    "# save as csv file\n",
    "newFname = \"../data/filtered-20190103-22-53-substorms.csv\"\n",
    "saveCols = [ \"datetime\", \"mlat\", \"mlt\" ]\n",
    "newColNames = [ \"Date_UTC\", \"MLAT\", \"MLT\" ]\n",
    "saveFltrDF = alFilteredSMDF[saveCols]\n",
    "saveFltrDF.columns = newColNames\n",
    "saveFltrDF.reset_index(drop=True).to_csv(newFname, index=False)"
   ]
  },
  {
   "cell_type": "code",
   "execution_count": 24,
   "metadata": {},
   "outputs": [
    {
     "name": "stdout",
     "output_type": "stream",
     "text": [
      "../data/filtered-20190103-22-53-substorms.csv\n"
     ]
    }
   ],
   "source": [
    "print newFname"
   ]
  },
  {
   "cell_type": "code",
   "execution_count": null,
   "metadata": {},
   "outputs": [],
   "source": []
  }
 ],
 "metadata": {
  "kernelspec": {
   "display_name": "Python 2",
   "language": "python",
   "name": "python2"
  },
  "language_info": {
   "codemirror_mode": {
    "name": "ipython",
    "version": 2
   },
   "file_extension": ".py",
   "mimetype": "text/x-python",
   "name": "python",
   "nbconvert_exporter": "python",
   "pygments_lexer": "ipython2",
   "version": "2.7.6"
  }
 },
 "nbformat": 4,
 "nbformat_minor": 2
}
